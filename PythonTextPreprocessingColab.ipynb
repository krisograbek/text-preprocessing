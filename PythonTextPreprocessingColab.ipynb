{
  "cells": [
    {
      "cell_type": "markdown",
      "metadata": {
        "id": "view-in-github",
        "colab_type": "text"
      },
      "source": [
        "<a href=\"https://colab.research.google.com/github/krisograbek/text-preprocessing/blob/main/PythonTextPreprocessing.ipynb\" target=\"_parent\"><img src=\"https://colab.research.google.com/assets/colab-badge.svg\" alt=\"Open In Colab\"/></a>"
      ]
    },
    {
      "cell_type": "markdown",
      "source": [
        "# Introduction\n",
        "\n",
        "In the notebook, you can find a collection of Text Preprocessing steps that are common in a variety of NLP tasks. However, the list is probably not complete. \n",
        "\n",
        "It contains:\n",
        " - Text Cleaning steps\n",
        " - Text Normalization steps\n",
        " - Sources of information\n",
        "\n",
        "It does NOT contain:\n",
        " - Word Embeddings\n",
        " - Bag of Words\n",
        " - TF-IDF"
      ],
      "metadata": {
        "id": "tzIw4_XRqlyC"
      }
    },
    {
      "cell_type": "code",
      "source": [
        "! pip install -q unidecode pyspellchecker autocorrect"
      ],
      "metadata": {
        "id": "2u2IfhF8f6kE"
      },
      "execution_count": null,
      "outputs": []
    },
    {
      "cell_type": "markdown",
      "metadata": {
        "id": "Up8fGY5LfqEd"
      },
      "source": [
        "# Table of Contents\n",
        "\n",
        "1. [Lowercasing](#lowercase)\n",
        "2. [Punctuation Removal](#removal)\n",
        "    - [str.translate()](#rmvl-translate)\n",
        "    - [Regular Expressions](#rmvl-re)\n",
        "      - [re.compile()](#rmvl-re-compile)\n",
        "      - [re.escape()](#rmvl-re-escape)\n",
        "      - [Remove not words and not whitespaces](#rmvl-re-not-words)\n",
        "    - [Excluding Punctuation](#rmvl-exclude)\n",
        "    - [String Replace](#rmvl-str-replace)\n",
        "3. [Numbers Removal](#removal-nb)\n",
        "    - [str.translate()](#rmvl-nb-tr)\n",
        "    - [Regular Expressions](#rmvl-nb-re)\n",
        "    - [join with not digit](#rmvl-nb-not-digit)\n",
        "    - [join with not alpha](#rmvl-nb-not-alpha)\n",
        "4. [HTML Tags Removal](#html-rmvl)\n",
        "    - [Regular Expressions](#html-rmvl-re)\n",
        "    - [Beautiful Soup](#html-rmvl-bs)\n",
        "5. [URL Removal](#url-rmvl)\n",
        "    - [Regular Expressions](#url-rmvl-re)\n",
        "6. [Newlines / spaces / tabs Removal](#spaces-rmvl)\n",
        "    - [String split](#spaces-rmvl-split)\n",
        "    - [Regular Expressions](#spaces-rmvl-re)\n",
        "        - [re.sub()](#spaces-rmvl-re)\n",
        "        - [re.findall()](#spaces-rmvl-re-findall)\n",
        "7. [Emojis Removal](#emoji-rmvl)\n",
        "    - [Regular Expressions](#emoji-rmvl-re)\n",
        "8. [Replacing accented characters](#accented)\n",
        "    - [Unidecode](#accented-unidecode)\n",
        "9. [Spelling corrections](#spell)\n",
        "    - [SpellChecker](#spell-checker)\n",
        "    - [Autocorrect](#spell-autocorrect)\n",
        "    - [TextBlob](#spell-tb)\n",
        "9. [Tokenization](#tknz)\n",
        "    - [Regular Expressions](#tknz-re)\n",
        "    - [NLTK](#tknz-nltk)\n",
        "    - [SpaCy](#tknz-spacy)\n",
        "    - [Gensim](#tknz-gensim)\n",
        "    - [Comparision of the methods](#tknz-compare)\n",
        "10. [Sentence Tokenization](#tknz-sents)\n",
        "    - [Regular Expressions](#tknz-sents-re)\n",
        "    - [NLTK](#tknz-sents-nltk)\n",
        "    - [SpaCy](#tknz-sents-spacy)\n",
        "11. [Stopwords Removal](#stopwords)\n",
        "    - [NLTK](#stopwords-nltk)\n",
        "    - [SpaCy](#stopwords-spacy)\n",
        "    - [Gensim](#stopwords-gensim)\n",
        "    - [Comparision of the methods](#stopwords-compare)\n",
        "    - [Comparision of stopwords lists](#stopwords-compare2)\n",
        "12. [Lemmatization](#lemma)\n",
        "    - [NLTK](#lemma-nltk)\n",
        "    - [SpaCy](#lemma-spacy)\n",
        "    - [TextBlob](#lemma-tb)\n",
        "    - [Adding Tags](#lemma-tags)\n",
        "        - [NLTK](#lemma-tags-nltk)\n",
        "        - [TextBlob](#lemma-tags-tb)\n",
        "    - [Comparision of the methods](#lemma-compare)\n",
        "13. [Stemming](#stem)\n",
        "    - [PorterStemmer](#stem-ps)\n",
        "    - [SnowballStemmer](#stem-sno)\n"
      ]
    },
    {
      "cell_type": "code",
      "execution_count": null,
      "metadata": {
        "id": "_zwL6LEWfqEg"
      },
      "outputs": [],
      "source": [
        "import string\n",
        "import re\n",
        "import nltk\n",
        "import spacy"
      ]
    },
    {
      "cell_type": "markdown",
      "metadata": {
        "id": "uRjBMWsCfqEi"
      },
      "source": [
        "## Lowercasing <a name=\"lowercase\"></a>"
      ]
    },
    {
      "cell_type": "code",
      "execution_count": null,
      "metadata": {
        "colab": {
          "base_uri": "https://localhost:8080/",
          "height": 35
        },
        "id": "8-bIN5xefqEj",
        "outputId": "86ae5681-4596-4202-d4e7-41fbbbdde662"
      },
      "outputs": [
        {
          "output_type": "execute_result",
          "data": {
            "application/vnd.google.colaboratory.intrinsic+json": {
              "type": "string"
            },
            "text/plain": [
              "'hello, poland is a very beautiful country!'"
            ]
          },
          "metadata": {},
          "execution_count": 3
        }
      ],
      "source": [
        "text_with_upper = \"Hello, POLAND is a Very BeautiFul CountrY!\"\n",
        "text_with_upper.lower()"
      ]
    },
    {
      "cell_type": "markdown",
      "metadata": {
        "id": "C1grp1epfqEk"
      },
      "source": [
        "## Punctuation Removal <a name=\"removal\"></a>"
      ]
    },
    {
      "cell_type": "markdown",
      "metadata": {
        "id": "38Pgrii0fqEl"
      },
      "source": [
        "### **Most of them use `string.punctuation`**\n",
        "\n",
        "\n",
        "\n",
        "Based on the [StackOverflow question](https://stackoverflow.com/questions/265960/best-way-to-strip-punctuation-from-a-string)\n",
        "\n",
        "I ordered the solutions from the fastest to the slowest"
      ]
    },
    {
      "cell_type": "code",
      "execution_count": null,
      "metadata": {
        "id": "Q7WILeX8fqEl"
      },
      "outputs": [],
      "source": [
        "puncts_text = \"HI!!! I overuse ... !(@*punctuations +-*/ and*(& other signs __*(&!!\""
      ]
    },
    {
      "cell_type": "markdown",
      "metadata": {
        "id": "5oqYWD41fqEm"
      },
      "source": [
        "### using `str.translate()` <a name=\"rmvl-translate\"></a>\n",
        "Probably the fastest way"
      ]
    },
    {
      "cell_type": "code",
      "execution_count": null,
      "metadata": {
        "colab": {
          "base_uri": "https://localhost:8080/",
          "height": 35
        },
        "id": "9jjc7koxfqEn",
        "outputId": "28700f86-0bb8-41ef-f8bb-10556e4e2209"
      },
      "outputs": [
        {
          "output_type": "execute_result",
          "data": {
            "application/vnd.google.colaboratory.intrinsic+json": {
              "type": "string"
            },
            "text/plain": [
              "'HI I overuse  punctuations  and other signs '"
            ]
          },
          "metadata": {},
          "execution_count": 5
        }
      ],
      "source": [
        "puncts_text.translate(str.maketrans('', '', string.punctuation))"
      ]
    },
    {
      "cell_type": "markdown",
      "metadata": {
        "id": "C3WXWE3WfqEo"
      },
      "source": [
        "### Using `re` <a name=\"rmvl-re\"></a>\n",
        "\n",
        "`re` stands for Regular Expressions"
      ]
    },
    {
      "cell_type": "markdown",
      "metadata": {
        "id": "yVkEJ-AGfqEo"
      },
      "source": [
        "#### Method 1 with string.punctuation <a name=\"rmvl-re-compile\"></a>"
      ]
    },
    {
      "cell_type": "code",
      "execution_count": null,
      "metadata": {
        "colab": {
          "base_uri": "https://localhost:8080/",
          "height": 35
        },
        "id": "e_sCPXcEfqEp",
        "outputId": "9bd82af1-84d2-4289-f195-5abc22f3dc5a"
      },
      "outputs": [
        {
          "output_type": "execute_result",
          "data": {
            "application/vnd.google.colaboratory.intrinsic+json": {
              "type": "string"
            },
            "text/plain": [
              "'HI I overuse  punctuations  and other signs '"
            ]
          },
          "metadata": {},
          "execution_count": 6
        }
      ],
      "source": [
        "regex = re.compile('[%s]' % re.escape(string.punctuation))\n",
        "regex.sub('', puncts_text)"
      ]
    },
    {
      "cell_type": "markdown",
      "metadata": {
        "id": "Wvozz4kFfqEp"
      },
      "source": [
        "#### Method 1 in a single line <a name=\"rmvl-re-compile\"></a>"
      ]
    },
    {
      "cell_type": "code",
      "execution_count": null,
      "metadata": {
        "colab": {
          "base_uri": "https://localhost:8080/",
          "height": 35
        },
        "id": "8Lqr_F7efqEp",
        "outputId": "dd6a485d-ae53-4eca-e40c-63625ecfb6de"
      },
      "outputs": [
        {
          "output_type": "execute_result",
          "data": {
            "application/vnd.google.colaboratory.intrinsic+json": {
              "type": "string"
            },
            "text/plain": [
              "'HI I overuse  punctuations  and other signs '"
            ]
          },
          "metadata": {},
          "execution_count": 7
        }
      ],
      "source": [
        "re.sub(f'[{re.escape(string.punctuation)}]','', puncts_text)"
      ]
    },
    {
      "cell_type": "markdown",
      "metadata": {
        "id": "DI50ACVifqEp"
      },
      "source": [
        "#### Method 2 <a name=\"rmvl-re-not-words\"></a>\n",
        "\n",
        "Removes **not words** and **not spaces**\n",
        "\n",
        "Note: `re` treats underscore as a word so its results are different"
      ]
    },
    {
      "cell_type": "code",
      "execution_count": null,
      "metadata": {
        "colab": {
          "base_uri": "https://localhost:8080/",
          "height": 35
        },
        "id": "pRRTHtsffqEp",
        "outputId": "44d8eab6-e703-44a3-da44-fc2ff1fd5a1f"
      },
      "outputs": [
        {
          "output_type": "execute_result",
          "data": {
            "application/vnd.google.colaboratory.intrinsic+json": {
              "type": "string"
            },
            "text/plain": [
              "'HI I overuse  punctuations  and other signs __'"
            ]
          },
          "metadata": {},
          "execution_count": 8
        }
      ],
      "source": [
        "re.sub(r'[^\\w\\s]','', puncts_text)"
      ]
    },
    {
      "cell_type": "markdown",
      "metadata": {
        "id": "S9698-jbfqEq"
      },
      "source": [
        "### Excluding string.punctuation <a name=\"rmvl-exclude\"></a>"
      ]
    },
    {
      "cell_type": "code",
      "execution_count": null,
      "metadata": {
        "colab": {
          "base_uri": "https://localhost:8080/",
          "height": 35
        },
        "id": "01L8-n-vfqEq",
        "outputId": "63871e11-b995-4f6f-a4ed-20d8b4d2a51e"
      },
      "outputs": [
        {
          "output_type": "execute_result",
          "data": {
            "application/vnd.google.colaboratory.intrinsic+json": {
              "type": "string"
            },
            "text/plain": [
              "'HI I overuse  punctuations  and other signs '"
            ]
          },
          "metadata": {},
          "execution_count": 9
        }
      ],
      "source": [
        "# a slower solution\n",
        "exclude = set(string.punctuation)\n",
        "\"\".join(ch for ch in puncts_text if ch not in exclude)"
      ]
    },
    {
      "cell_type": "markdown",
      "metadata": {
        "id": "vboDXqP6fqEq"
      },
      "source": [
        "### Using `str.replace()` <a name=\"rmvl-str-replace\"></a>"
      ]
    },
    {
      "cell_type": "code",
      "execution_count": null,
      "metadata": {
        "colab": {
          "base_uri": "https://localhost:8080/",
          "height": 35
        },
        "id": "9yCPcHQXfqEr",
        "outputId": "c51cc5ec-247b-4d22-a414-788923147313"
      },
      "outputs": [
        {
          "output_type": "execute_result",
          "data": {
            "application/vnd.google.colaboratory.intrinsic+json": {
              "type": "string"
            },
            "text/plain": [
              "'HI I overuse  punctuations  and other signs '"
            ]
          },
          "metadata": {},
          "execution_count": 10
        }
      ],
      "source": [
        "clean_text = puncts_text\n",
        "for c in string.punctuation:\n",
        "    clean_text = clean_text.replace(c, \"\")\n",
        "clean_text"
      ]
    },
    {
      "cell_type": "markdown",
      "metadata": {
        "id": "odTIKFtYfqEr"
      },
      "source": [
        "## Numbers Removal <a name=\"removal-nb\"></a>\n",
        "\n"
      ]
    },
    {
      "cell_type": "code",
      "execution_count": null,
      "metadata": {
        "id": "351imb8yfqEr"
      },
      "outputs": [],
      "source": [
        "text_numbers = '12abcd405'"
      ]
    },
    {
      "cell_type": "markdown",
      "metadata": {
        "id": "evf2G7iyfqEr"
      },
      "source": [
        "### Using `str.translate` with `string.digits` <a name=\"rmvl-nb-tr\"></a>"
      ]
    },
    {
      "cell_type": "code",
      "execution_count": null,
      "metadata": {
        "colab": {
          "base_uri": "https://localhost:8080/",
          "height": 35
        },
        "id": "rFuuSvF-fqEr",
        "outputId": "a73551e6-3fa6-42f9-c308-b4b2ecef5e1d"
      },
      "outputs": [
        {
          "output_type": "execute_result",
          "data": {
            "application/vnd.google.colaboratory.intrinsic+json": {
              "type": "string"
            },
            "text/plain": [
              "'abcd'"
            ]
          },
          "metadata": {},
          "execution_count": 12
        }
      ],
      "source": [
        "text_numbers.translate(str.maketrans('', '', string.digits))"
      ]
    },
    {
      "cell_type": "markdown",
      "metadata": {
        "id": "zwfhtqcjfqEr"
      },
      "source": [
        "### Using `re` <a name=\"rmvl-nb-re\"></a>"
      ]
    },
    {
      "cell_type": "code",
      "execution_count": null,
      "metadata": {
        "colab": {
          "base_uri": "https://localhost:8080/",
          "height": 35
        },
        "id": "52FCSuk0fqEs",
        "outputId": "60969546-3443-44aa-d39d-830b55a9db64"
      },
      "outputs": [
        {
          "output_type": "execute_result",
          "data": {
            "application/vnd.google.colaboratory.intrinsic+json": {
              "type": "string"
            },
            "text/plain": [
              "'abcd'"
            ]
          },
          "metadata": {},
          "execution_count": 13
        }
      ],
      "source": [
        "re.sub(r'\\d+', '', text_numbers)"
      ]
    },
    {
      "cell_type": "code",
      "execution_count": null,
      "metadata": {
        "colab": {
          "base_uri": "https://localhost:8080/",
          "height": 35
        },
        "id": "zRfVtpbNfqEs",
        "outputId": "eecceae7-5d1a-4ac9-c389-4c07e84a2fce"
      },
      "outputs": [
        {
          "output_type": "execute_result",
          "data": {
            "application/vnd.google.colaboratory.intrinsic+json": {
              "type": "string"
            },
            "text/plain": [
              "'abcd'"
            ]
          },
          "metadata": {},
          "execution_count": 14
        }
      ],
      "source": [
        "re.sub(r'[0-9]+', '', text_numbers)"
      ]
    },
    {
      "cell_type": "markdown",
      "metadata": {
        "id": "tBCjLblnfqEs"
      },
      "source": [
        "### Using `join()` and NOT `isdigit()` <a name=\"rmvl-nb-not-digit\"></a>"
      ]
    },
    {
      "cell_type": "code",
      "execution_count": null,
      "metadata": {
        "colab": {
          "base_uri": "https://localhost:8080/",
          "height": 35
        },
        "id": "r9b6DcThfqEs",
        "outputId": "b3d39b44-4b05-4e02-d9e5-887cfff8dc5c"
      },
      "outputs": [
        {
          "output_type": "execute_result",
          "data": {
            "application/vnd.google.colaboratory.intrinsic+json": {
              "type": "string"
            },
            "text/plain": [
              "'abcd'"
            ]
          },
          "metadata": {},
          "execution_count": 15
        }
      ],
      "source": [
        "\"\".join(i for i in text_numbers if not i.isdigit())"
      ]
    },
    {
      "cell_type": "markdown",
      "metadata": {
        "id": "BZAwIivefqEs"
      },
      "source": [
        "### Using `join()` and `isalpha()` <a name=\"rmvl-nb-not-alpha\"></a>\n",
        "\n",
        "This actually isn't the correct solution, because `isalpha()` is True only for letters."
      ]
    },
    {
      "cell_type": "code",
      "execution_count": null,
      "metadata": {
        "colab": {
          "base_uri": "https://localhost:8080/",
          "height": 35
        },
        "id": "Bq0UqHIVfqEs",
        "outputId": "b481c594-868f-4ae0-ece9-546e24ae0c0b"
      },
      "outputs": [
        {
          "output_type": "execute_result",
          "data": {
            "application/vnd.google.colaboratory.intrinsic+json": {
              "type": "string"
            },
            "text/plain": [
              "'abcd'"
            ]
          },
          "metadata": {},
          "execution_count": 16
        }
      ],
      "source": [
        "\"\".join(i for i in text_numbers if i.isalpha())"
      ]
    },
    {
      "cell_type": "markdown",
      "metadata": {
        "id": "a_kpX-1afqEs"
      },
      "source": [
        "## HTML Tags Removal <a name=\"html-rmvl\"></a>\n",
        "\n",
        "Solutions from [Stack Overflow](https://stackoverflow.com/questions/753052/strip-html-from-strings-in-python)"
      ]
    },
    {
      "cell_type": "code",
      "execution_count": null,
      "metadata": {
        "id": "1kHLzxI3fqEt"
      },
      "outputs": [],
      "source": [
        "html_text = \"\"\"<tr class=\"color-5 negri a-bottom\">\n",
        "<td class=\"a-center\" width=\"11%\"><div style=\"min-width: 80px\">3-Pointers</div></td>\n",
        "<td><div class=\"left\" style=\"min-width: 120px; max-width:175px; width: 57%\">\n",
        "<div class=\"left margen-l2\">Player</div>\n",
        "<div class=\"right\"> Team</div>\n",
        "</div>\n",
        "</td>\n",
        "<td><div style=\"min-width: 60px; \">Season</div></td>\n",
        "<td><div class=\"\">W/L Game</div>\n",
        "</td>\n",
        "</tr>\"\"\"\n"
      ]
    },
    {
      "cell_type": "markdown",
      "metadata": {
        "id": "7PCdYYjVfqEt"
      },
      "source": [
        "### Using `re` <a name=\"html-rmvl-re\"></a>\n",
        "\n",
        " - begin with tag opening '<'\n",
        " - then not '<'\n",
        " - not '<' at least once"
      ]
    },
    {
      "cell_type": "code",
      "execution_count": null,
      "metadata": {
        "colab": {
          "base_uri": "https://localhost:8080/",
          "height": 35
        },
        "id": "ptkQK8ZDfqEt",
        "outputId": "5c32b866-2e02-42d4-c9d7-9c142a3c820c"
      },
      "outputs": [
        {
          "output_type": "execute_result",
          "data": {
            "application/vnd.google.colaboratory.intrinsic+json": {
              "type": "string"
            },
            "text/plain": [
              "'\\n3-Pointers\\n\\nPlayer\\n Team\\n\\n\\nSeason\\nW/L Game\\n\\n'"
            ]
          },
          "metadata": {},
          "execution_count": 18
        }
      ],
      "source": [
        "re.sub('<[^<]+?>', '', html_text)"
      ]
    },
    {
      "cell_type": "markdown",
      "metadata": {
        "id": "fABLaKrUfqEt"
      },
      "source": [
        "### Using `BeautifulSoup` <a name=\"html-rmvl-bs\"></a>\n",
        "\n",
        " - `get_text()` removes HTML tags\n",
        " - `strip = True` removes whitespaces and newlines"
      ]
    },
    {
      "cell_type": "code",
      "execution_count": null,
      "metadata": {
        "id": "nVr2AyYNfqEt"
      },
      "outputs": [],
      "source": [
        "from bs4 import BeautifulSoup"
      ]
    },
    {
      "cell_type": "code",
      "execution_count": null,
      "metadata": {
        "colab": {
          "base_uri": "https://localhost:8080/",
          "height": 35
        },
        "id": "CLebXc_jfqEt",
        "outputId": "1ed52a38-44b7-4570-c0e7-2f551f70a72c"
      },
      "outputs": [
        {
          "output_type": "execute_result",
          "data": {
            "application/vnd.google.colaboratory.intrinsic+json": {
              "type": "string"
            },
            "text/plain": [
              "'3-Pointers,Player,Team,Season,W/L Game'"
            ]
          },
          "metadata": {},
          "execution_count": 20
        }
      ],
      "source": [
        "soup = BeautifulSoup(html_text, 'html.parser')\n",
        "soup.get_text(\",\", strip=True)"
      ]
    },
    {
      "cell_type": "markdown",
      "metadata": {
        "id": "3m_5b7vEfqEt"
      },
      "source": [
        "### Extreme example"
      ]
    },
    {
      "cell_type": "code",
      "execution_count": null,
      "metadata": {
        "id": "YqGUX3DRfqEu"
      },
      "outputs": [],
      "source": [
        "html_comment = \"<img<!-- --> src=x onerror=alert(1);//><!-- -->\""
      ]
    },
    {
      "cell_type": "markdown",
      "metadata": {
        "id": "ewk1Y58_fqEu"
      },
      "source": [
        "Both solutions fail"
      ]
    },
    {
      "cell_type": "code",
      "execution_count": null,
      "metadata": {
        "colab": {
          "base_uri": "https://localhost:8080/",
          "height": 35
        },
        "id": "wX_Dm5UmfqEu",
        "outputId": "6f32ce38-2e5e-43bb-c95d-125d513c97d2"
      },
      "outputs": [
        {
          "output_type": "execute_result",
          "data": {
            "application/vnd.google.colaboratory.intrinsic+json": {
              "type": "string"
            },
            "text/plain": [
              "'<img src=x onerror=alert(1);//>'"
            ]
          },
          "metadata": {},
          "execution_count": 22
        }
      ],
      "source": [
        "re.sub('<[^<]+?>', '', html_comment)"
      ]
    },
    {
      "cell_type": "code",
      "execution_count": null,
      "metadata": {
        "colab": {
          "base_uri": "https://localhost:8080/",
          "height": 35
        },
        "id": "BqVkDW8qfqEu",
        "outputId": "79e48a63-51e4-4304-bc1b-61a1f951fcf6"
      },
      "outputs": [
        {
          "output_type": "execute_result",
          "data": {
            "application/vnd.google.colaboratory.intrinsic+json": {
              "type": "string"
            },
            "text/plain": [
              "'src=x onerror=alert(1);//>'"
            ]
          },
          "metadata": {},
          "execution_count": 23
        }
      ],
      "source": [
        "soup = BeautifulSoup(html_comment, 'html.parser')\n",
        "soup.get_text(\",\", strip=True)"
      ]
    },
    {
      "cell_type": "code",
      "execution_count": null,
      "metadata": {
        "colab": {
          "base_uri": "https://localhost:8080/",
          "height": 35
        },
        "id": "kK70YpdEfqEu",
        "outputId": "2b3ed9a6-fb0c-482a-8878-b245eb484275"
      },
      "outputs": [
        {
          "output_type": "execute_result",
          "data": {
            "application/vnd.google.colaboratory.intrinsic+json": {
              "type": "string"
            },
            "text/plain": [
              "' src=x onerror=alert(1);//>'"
            ]
          },
          "metadata": {},
          "execution_count": 24
        }
      ],
      "source": [
        "tag_re = re.compile(r'(<!--.*?-->|<[^>]*>)')\n",
        "no_tags = tag_re.sub('', html_comment)\n",
        "no_tags"
      ]
    },
    {
      "cell_type": "code",
      "execution_count": null,
      "metadata": {
        "colab": {
          "base_uri": "https://localhost:8080/",
          "height": 35
        },
        "id": "xbiMfDqzfqEv",
        "outputId": "9ccacf01-adf7-4e2b-cd08-7dd077d4aadb"
      },
      "outputs": [
        {
          "output_type": "execute_result",
          "data": {
            "application/vnd.google.colaboratory.intrinsic+json": {
              "type": "string"
            },
            "text/plain": [
              "' src=x onerror=alert(1);//&gt;'"
            ]
          },
          "metadata": {},
          "execution_count": 25
        }
      ],
      "source": [
        "import html\n",
        "\n",
        "html.escape(no_tags)"
      ]
    },
    {
      "cell_type": "markdown",
      "metadata": {
        "id": "uQqRkIUefqEv"
      },
      "source": [
        "## URL Removal <a name=\"url-rmvl\"></a>\n",
        "\n",
        "From this [StackOverflow Question](https://stackoverflow.com/questions/11331982/how-to-remove-any-url-within-a-string-in-python/11332580)"
      ]
    },
    {
      "cell_type": "code",
      "execution_count": null,
      "metadata": {
        "id": "sjqgjDRIfqEv"
      },
      "outputs": [],
      "source": [
        "text_url = \"\"\"text1\n",
        "text2\n",
        "http://url.com/bla1/blah1/\n",
        "text3\n",
        "text4\n",
        "http://url.com/bla2/blah2/\n",
        "text5\n",
        "text6\n",
        "http://url.com/bla3/blah3/\"\"\""
      ]
    },
    {
      "cell_type": "markdown",
      "metadata": {
        "id": "EbOexv9MfqEv"
      },
      "source": [
        "### Using `re` <a name=\"url-rmvl-re\"></a>"
      ]
    },
    {
      "cell_type": "code",
      "execution_count": null,
      "metadata": {
        "colab": {
          "base_uri": "https://localhost:8080/",
          "height": 35
        },
        "id": "UJAPRJ7ZfqEv",
        "outputId": "783aa974-1b18-4cdf-cb60-b11fd42070e3"
      },
      "outputs": [
        {
          "output_type": "execute_result",
          "data": {
            "application/vnd.google.colaboratory.intrinsic+json": {
              "type": "string"
            },
            "text/plain": [
              "'text1\\ntext2\\n\\ntext3\\ntext4\\n\\ntext5\\ntext6\\n'"
            ]
          },
          "metadata": {},
          "execution_count": 27
        }
      ],
      "source": [
        "re.sub(r'http\\S+', '', text_url)"
      ]
    },
    {
      "cell_type": "markdown",
      "metadata": {
        "id": "v3y9yGyzfqEw"
      },
      "source": [
        "## Newlines, spaces and tabs removal <a name=\"spaces-rmvl\"></a>"
      ]
    },
    {
      "cell_type": "markdown",
      "metadata": {
        "id": "B9sKd91sfqEw"
      },
      "source": [
        "### Using `str.split()` and `join()` <a name=\"spaces-rmvl-split\"></a>"
      ]
    },
    {
      "cell_type": "code",
      "execution_count": null,
      "metadata": {
        "colab": {
          "base_uri": "https://localhost:8080/",
          "height": 35
        },
        "id": "piBiy52YfqEw",
        "outputId": "a08e3e8b-72af-4aed-c5d7-d571bad95119"
      },
      "outputs": [
        {
          "output_type": "execute_result",
          "data": {
            "application/vnd.google.colaboratory.intrinsic+json": {
              "type": "string"
            },
            "text/plain": [
              "'I want to Remove all white spaces, new lines and tabs'"
            ]
          },
          "metadata": {},
          "execution_count": 28
        }
      ],
      "source": [
        "my_str=\"I want to Remove all white \\t\\n\\n\\r spaces, new lines \\n and tabs \\t\"\n",
        "\" \".join(my_str.split())"
      ]
    },
    {
      "cell_type": "markdown",
      "metadata": {
        "id": "6oXvZGj1fqEw"
      },
      "source": [
        "### Using `re` <a name=\"spaces-rmvl-re\"></a>\n",
        "\n",
        " - **`\\s` stands for whitespace character, equivalent to `[ \\n\\r\\t\\f]`**\n",
        " - **`\\S` stands for not whitespace character, equivalent to `[^\\s]`**"
      ]
    },
    {
      "cell_type": "code",
      "execution_count": null,
      "metadata": {
        "colab": {
          "base_uri": "https://localhost:8080/",
          "height": 35
        },
        "id": "cWp-R1ktfqEx",
        "outputId": "64011043-bc90-4a4c-958a-ab3cff9ffb46"
      },
      "outputs": [
        {
          "output_type": "execute_result",
          "data": {
            "application/vnd.google.colaboratory.intrinsic+json": {
              "type": "string"
            },
            "text/plain": [
              "'I want to Remove all white spaces, new lines and tabs '"
            ]
          },
          "metadata": {},
          "execution_count": 29
        }
      ],
      "source": [
        "re.sub('\\s+', ' ', my_str)"
      ]
    },
    {
      "cell_type": "code",
      "execution_count": null,
      "metadata": {
        "colab": {
          "base_uri": "https://localhost:8080/",
          "height": 35
        },
        "id": "iGfrsMykfqEx",
        "outputId": "d631a6e6-db30-4a77-c9f9-5d8824e43893"
      },
      "outputs": [
        {
          "output_type": "execute_result",
          "data": {
            "application/vnd.google.colaboratory.intrinsic+json": {
              "type": "string"
            },
            "text/plain": [
              "'I want to Remove all white spaces, new lines and tabs '"
            ]
          },
          "metadata": {},
          "execution_count": 30
        }
      ],
      "source": [
        "re.sub('[^\\S]+', ' ', my_str)"
      ]
    },
    {
      "cell_type": "code",
      "execution_count": null,
      "metadata": {
        "colab": {
          "base_uri": "https://localhost:8080/",
          "height": 35
        },
        "id": "_yuf3fG5fqEx",
        "outputId": "5ae2fb2d-bde2-4e97-c6a2-a1a1a09dc04c"
      },
      "outputs": [
        {
          "output_type": "execute_result",
          "data": {
            "application/vnd.google.colaboratory.intrinsic+json": {
              "type": "string"
            },
            "text/plain": [
              "'I want to Remove all white spaces, new lines and tabs '"
            ]
          },
          "metadata": {},
          "execution_count": 31
        }
      ],
      "source": [
        "re.sub('[\\t\\n\\r\\f ]+', ' ', my_str)"
      ]
    },
    {
      "cell_type": "markdown",
      "metadata": {
        "id": "ev2Tm_vVfqEx"
      },
      "source": [
        "### Using `re.findall()` <a name=\"spaces-rmvl-re-findall\"></a>\n",
        "\n",
        "Taken from [StackOverflow](https://stackoverflow.com/questions/4697882/how-can-i-find-all-matches-to-a-regular-expression-in-python)\n",
        "\n",
        "NOTE: I believe this approach is slower than the one with `re.sub()`. "
      ]
    },
    {
      "cell_type": "code",
      "execution_count": null,
      "metadata": {
        "colab": {
          "base_uri": "https://localhost:8080/",
          "height": 35
        },
        "id": "wdHwQ-mSfqEx",
        "outputId": "15ccc39b-6e3b-41fd-b083-1d2623817e51"
      },
      "outputs": [
        {
          "output_type": "execute_result",
          "data": {
            "application/vnd.google.colaboratory.intrinsic+json": {
              "type": "string"
            },
            "text/plain": [
              "'I want to Remove all white new lines and tabs '"
            ]
          },
          "metadata": {},
          "execution_count": 32
        }
      ],
      "source": [
        "match = re.findall('[\\w]+ ', my_str)\n",
        "\"\".join(match)"
      ]
    },
    {
      "cell_type": "markdown",
      "metadata": {
        "id": "jFPReQgEfqEx"
      },
      "source": [
        "## Emojis Removal <a name=\"emoji-rmvl\"></a>\n",
        "\n",
        "Found [here](https://gist.github.com/slowkow/7a7f61f495e3dbb7e3d767f97bd7304b#gistcomment-3315605)"
      ]
    },
    {
      "cell_type": "code",
      "execution_count": null,
      "metadata": {
        "colab": {
          "base_uri": "https://localhost:8080/",
          "height": 35
        },
        "id": "CDKq1-vpfqEy",
        "outputId": "79153051-db6b-41f3-bead-eabde869e2b4"
      },
      "outputs": [
        {
          "output_type": "execute_result",
          "data": {
            "application/vnd.google.colaboratory.intrinsic+json": {
              "type": "string"
            },
            "text/plain": [
              "'Hi 🤔 How is your 🙈 and 😌. Have a nice weekend 💕👭👙😀🌀'"
            ]
          },
          "metadata": {},
          "execution_count": 33
        }
      ],
      "source": [
        "text_emojis = u\"Hi 🤔 How is your 🙈 and 😌. Have a nice weekend 💕👭👙\\U0001F600\\U0001F300\"\n",
        "text_emojis"
      ]
    },
    {
      "cell_type": "markdown",
      "source": [
        "### Using `re` <a name=\"emoji-rmvl-re\"></a>"
      ],
      "metadata": {
        "id": "g-d-Y2zSi9N4"
      }
    },
    {
      "cell_type": "code",
      "execution_count": null,
      "metadata": {
        "colab": {
          "base_uri": "https://localhost:8080/",
          "height": 35
        },
        "id": "cmJMnP2-fqEy",
        "outputId": "245d49b2-fe25-461c-db86-a772c053b6a7"
      },
      "outputs": [
        {
          "output_type": "execute_result",
          "data": {
            "application/vnd.google.colaboratory.intrinsic+json": {
              "type": "string"
            },
            "text/plain": [
              "'Hi  How is your  and . Have a nice weekend '"
            ]
          },
          "metadata": {},
          "execution_count": 34
        }
      ],
      "source": [
        "emojis_pattern = re.compile(pattern=\"[\"\n",
        "                    u\"\\U0001F600-\\U0001F64F\"  # emoticons\n",
        "                    u\"\\U0001F300-\\U0001F5FF\"  # symbols & pictographs\n",
        "                    u\"\\U0001F680-\\U0001F6FF\"  # transport & map symbols\n",
        "                    u\"\\U0001F1E0-\\U0001F1FF\"  # flags (iOS)\n",
        "                    u\"\\U00002500-\\U00002BEF\"  # chinese char\n",
        "                    u\"\\U00002702-\\U000027B0\"\n",
        "                    u\"\\U00002702-\\U000027B0\"\n",
        "                    u\"\\U000024C2-\\U0001F251\"\n",
        "                    u\"\\U0001f926-\\U0001f937\"\n",
        "                    u\"\\U00010000-\\U0010ffff\"\n",
        "                    u\"\\u2640-\\u2642\"\n",
        "                    u\"\\u2600-\\u2B55\"\n",
        "                    u\"\\u200d\"\n",
        "                    u\"\\u23cf\"\n",
        "                    u\"\\u23e9\"\n",
        "                    u\"\\u231a\"\n",
        "                    u\"\\ufe0f\"  # dingbats\n",
        "                    u\"\\u3030\"\n",
        "                \"]+\", flags = re.UNICODE)\n",
        "\n",
        "emojis_pattern.sub(r'', text_emojis)"
      ]
    },
    {
      "cell_type": "markdown",
      "metadata": {
        "id": "_uJd0MOofqEz"
      },
      "source": [
        "## Replacing Accented Characters <a name=\"accented\"></a>"
      ]
    },
    {
      "cell_type": "markdown",
      "source": [
        "### Using `unidecode` <a name=\"accented-unidecode\"></a>"
      ],
      "metadata": {
        "id": "Bs2j4WXBjdu3"
      }
    },
    {
      "cell_type": "code",
      "execution_count": null,
      "metadata": {
        "colab": {
          "base_uri": "https://localhost:8080/",
          "height": 35
        },
        "id": "31epNvbDfqEz",
        "outputId": "023b1f20-12db-48de-8ff5-9aeb197805ed"
      },
      "outputs": [
        {
          "output_type": "execute_result",
          "data": {
            "application/vnd.google.colaboratory.intrinsic+json": {
              "type": "string"
            },
            "text/plain": [
              "'Malaga, aeeohello. Polish: nNcCsSeaozZzZ letters. German uoaoss letters'"
            ]
          },
          "metadata": {},
          "execution_count": 35
        }
      ],
      "source": [
        "import unidecode\n",
        "text_accented = \"Málaga, àéêöhello. Polish: ńŃćĆśŚęąóżŻźŹ letters. German üöäöß letters\"\n",
        "\n",
        "unidecode.unidecode(text_accented)"
      ]
    },
    {
      "cell_type": "markdown",
      "metadata": {
        "id": "8mII1zh5fqEz"
      },
      "source": [
        "## Spelling corrections <a name=\"spell\"></a>\n",
        "\n",
        "Solutions from [StackOverflow](https://stackoverflow.com/questions/13928155/spell-checker-for-python)"
      ]
    },
    {
      "cell_type": "markdown",
      "metadata": {
        "id": "h0RsDz9OfqE0"
      },
      "source": [
        "### Using `spellchecker` <a name=\"spell-checker\"></a>"
      ]
    },
    {
      "cell_type": "code",
      "execution_count": null,
      "metadata": {
        "colab": {
          "base_uri": "https://localhost:8080/",
          "height": 35
        },
        "id": "TnkAGVYEfqE0",
        "outputId": "983426f9-d0aa-48fb-dc96-512691058955"
      },
      "outputs": [
        {
          "output_type": "execute_result",
          "data": {
            "application/vnd.google.colaboratory.intrinsic+json": {
              "type": "string"
            },
            "text/plain": [
              "'I really need some corrections This sentence has misspelled words'"
            ]
          },
          "metadata": {},
          "execution_count": 68
        }
      ],
      "source": [
        "from spellchecker import SpellChecker\n",
        "\n",
        "spell = SpellChecker()\n",
        "\n",
        "def correct_spelling(text):\n",
        "    corrected_text = list()\n",
        "    misspelled_words = spell.unknown(text.split())\n",
        "    for word in text.split():\n",
        "        next_word = word\n",
        "        if word in misspelled_words:\n",
        "            next_word = spell.correction(word)\n",
        "        corrected_text.append(next_word)\n",
        "    \n",
        "    return \" \".join(corrected_text)\n",
        "\n",
        "text_misspelled = \"I realli needt smoe corection. This sentnce has mispelled wirds\"\n",
        "correct_spelling(text_misspelled)"
      ]
    },
    {
      "cell_type": "markdown",
      "metadata": {
        "id": "W7g6wzGgfqE0"
      },
      "source": [
        "### Using `autocorrect`<a name=\"spell-autocorrect\"></a>"
      ]
    },
    {
      "cell_type": "code",
      "execution_count": null,
      "metadata": {
        "colab": {
          "base_uri": "https://localhost:8080/"
        },
        "id": "0w-TXw7UfqE1",
        "outputId": "246e7993-abe1-4c33-bd64-ce14867abbd8"
      },
      "outputs": [
        {
          "output_type": "stream",
          "name": "stdout",
          "text": [
            "I really need some correction. This sentence has misspelled words\n"
          ]
        }
      ],
      "source": [
        "from autocorrect import Speller\n",
        "\n",
        "speller = Speller(lang='en')\n",
        "\n",
        "print(speller(text_misspelled))"
      ]
    },
    {
      "cell_type": "markdown",
      "metadata": {
        "id": "OKkbtQYKfqE1"
      },
      "source": [
        "### Using `textblob` <a name=\"spell-tb\"></a>\n",
        "\n",
        "Found [here](https://www.geeksforgeeks.org/python-textblob-correct-method/)"
      ]
    },
    {
      "cell_type": "code",
      "execution_count": null,
      "metadata": {
        "colab": {
          "base_uri": "https://localhost:8080/"
        },
        "id": "NDAEDVQgfqE1",
        "outputId": "6e786363-4e81-4017-f9fc-27247188e52b"
      },
      "outputs": [
        {
          "output_type": "execute_result",
          "data": {
            "text/plain": [
              "TextBlob(\"I really need some correction. His sentence has dispelled words\")"
            ]
          },
          "metadata": {},
          "execution_count": 38
        }
      ],
      "source": [
        "from textblob import TextBlob\n",
        "\n",
        "TextBlob(text_misspelled).correct()"
      ]
    },
    {
      "cell_type": "markdown",
      "metadata": {
        "id": "NHlWZ8BifqE2"
      },
      "source": [
        "### Create a longer text\n",
        "\n",
        "Beginning of the Metamorphosis by Franz Kafka"
      ]
    },
    {
      "cell_type": "code",
      "execution_count": null,
      "metadata": {
        "colab": {
          "base_uri": "https://localhost:8080/",
          "height": 158
        },
        "id": "kGGqajoBfqE3",
        "outputId": "27b32661-b971-481a-c5df-31f1379661d2"
      },
      "outputs": [
        {
          "output_type": "execute_result",
          "data": {
            "application/vnd.google.colaboratory.intrinsic+json": {
              "type": "string"
            },
            "text/plain": [
              "'One morning, when Gregor Samsa woke from troubled dreams,\\n he found himself transformed in his bed into a horrible vermin.  He lay \\n on his armour-like back, and if he lifted his head a little he could see his \\n brown belly, slightly domed and divided by arches into stiff sections.  \\n The bedding was hardly able to cover it and seemed ready to slide off any \\n moment.  His many legs, pitifully thin compared with the size of the rest of \\n him, waved about helplessly as he looked.  \"What\\'s happened to me?\" he thought.  \\n It wasn\\'t a dream.  His room, a proper human room although a little too small, \\n lay peacefully between its four familiar walls.  A collection of textile \\n samples lay spread out on the table - Samsa was a travelling salesman - and \\n above it there hung a picture that he had recently cut out of an illustrated \\n magazine and housed in a nice, gilded frame.  It showed a lady fitted out with \\n a fur hat and fur boa who sat upright, raising a heavy fur muff that covered \\n the whole of her lower arm towards the viewer.  Gregor then turned to look out \\n the window at the dull weather.'"
            ]
          },
          "metadata": {},
          "execution_count": 39
        }
      ],
      "source": [
        "text_lines = \"\"\"One morning, when Gregor Samsa woke from troubled dreams,\n",
        " he found himself transformed in his bed into a horrible vermin.  He lay \n",
        " on his armour-like back, and if he lifted his head a little he could see his \n",
        " brown belly, slightly domed and divided by arches into stiff sections.  \n",
        " The bedding was hardly able to cover it and seemed ready to slide off any \n",
        " moment.  His many legs, pitifully thin compared with the size of the rest of \n",
        " him, waved about helplessly as he looked.  \"What's happened to me?\" he thought.  \n",
        " It wasn't a dream.  His room, a proper human room although a little too small, \n",
        " lay peacefully between its four familiar walls.  A collection of textile \n",
        " samples lay spread out on the table - Samsa was a travelling salesman - and \n",
        " above it there hung a picture that he had recently cut out of an illustrated \n",
        " magazine and housed in a nice, gilded frame.  It showed a lady fitted out with \n",
        " a fur hat and fur boa who sat upright, raising a heavy fur muff that covered \n",
        " the whole of her lower arm towards the viewer.  Gregor then turned to look out \n",
        " the window at the dull weather.\"\"\"\n",
        "text_lines"
      ]
    },
    {
      "cell_type": "markdown",
      "metadata": {
        "id": "_Ek-alOjfqE3"
      },
      "source": [
        "## Tokenize Words <a name=\"tknz\"></a>"
      ]
    },
    {
      "cell_type": "markdown",
      "metadata": {
        "id": "qbdyPCTTfqE3"
      },
      "source": [
        "### Using `re` <a name=\"tknz-re\"></a>\n",
        "\n",
        "Return the list of words"
      ]
    },
    {
      "cell_type": "code",
      "execution_count": null,
      "metadata": {
        "colab": {
          "base_uri": "https://localhost:8080/"
        },
        "id": "lpdWVgswfqE4",
        "outputId": "0184b76b-c85c-45d8-b3d4-7b5246245533"
      },
      "outputs": [
        {
          "output_type": "stream",
          "name": "stdout",
          "text": [
            "200\n",
            "['One', 'morning', 'when', 'Gregor', 'Samsa', 'woke', 'from', 'troubled', 'dreams', 'he', 'found', 'himself', 'transformed', 'in', 'his', 'bed', 'into', 'a', 'horrible', 'vermin', 'He', 'lay', 'on', 'his', 'armour', 'like', 'back', 'and', 'if', 'he', 'lifted', 'his', 'head', 'a', 'little', 'he', 'could', 'see', 'his', 'brown', 'belly', 'slightly', 'domed', 'and', 'divided', 'by', 'arches', 'into', 'stiff', 'sections', 'The', 'bedding', 'was', 'hardly', 'able', 'to', 'cover', 'it', 'and', 'seemed', 'ready', 'to', 'slide', 'off', 'any', 'moment', 'His', 'many', 'legs', 'pitifully', 'thin', 'compared', 'with', 'the', 'size', 'of', 'the', 'rest', 'of', 'him', 'waved', 'about', 'helplessly', 'as', 'he', 'looked', 'What', 's', 'happened', 'to', 'me', 'he', 'thought', 'It', 'wasn', 't', 'a', 'dream', 'His', 'room', 'a', 'proper', 'human', 'room', 'although', 'a', 'little', 'too', 'small', 'lay', 'peacefully', 'between', 'its', 'four', 'familiar', 'walls', 'A', 'collection', 'of', 'textile', 'samples', 'lay', 'spread', 'out', 'on', 'the', 'table', 'Samsa', 'was', 'a', 'travelling', 'salesman', 'and', 'above', 'it', 'there', 'hung', 'a', 'picture', 'that', 'he', 'had', 'recently', 'cut', 'out', 'of', 'an', 'illustrated', 'magazine', 'and', 'housed', 'in', 'a', 'nice', 'gilded', 'frame', 'It', 'showed', 'a', 'lady', 'fitted', 'out', 'with', 'a', 'fur', 'hat', 'and', 'fur', 'boa', 'who', 'sat', 'upright', 'raising', 'a', 'heavy', 'fur', 'muff', 'that', 'covered', 'the', 'whole', 'of', 'her', 'lower', 'arm', 'towards', 'the', 'viewer', 'Gregor', 'then', 'turned', 'to', 'look', 'out', 'the', 'window', 'at', 'the', 'dull', 'weather']\n"
          ]
        }
      ],
      "source": [
        "re_tokens = re.findall('[\\w]+', text_lines)\n",
        "print(len(re_tokens))\n",
        "print(re_tokens)"
      ]
    },
    {
      "cell_type": "markdown",
      "metadata": {
        "id": "jlKo4ts4fqE4"
      },
      "source": [
        "### Using `nltk` <a name=\"tknz-nltk\"></a>"
      ]
    },
    {
      "cell_type": "code",
      "execution_count": null,
      "metadata": {
        "colab": {
          "base_uri": "https://localhost:8080/"
        },
        "id": "GlhGKEmsfqE4",
        "outputId": "12732166-5afe-43da-a6ec-09f437b93ae9"
      },
      "outputs": [
        {
          "output_type": "stream",
          "name": "stdout",
          "text": [
            "[nltk_data] Downloading package punkt to /root/nltk_data...\n",
            "[nltk_data]   Package punkt is already up-to-date!\n",
            "224 ['One', 'morning', ',', 'when', 'Gregor', 'Samsa', 'woke', 'from', 'troubled', 'dreams', ',', 'he', 'found', 'himself', 'transformed', 'in', 'his', 'bed', 'into', 'a', 'horrible', 'vermin', '.', 'He', 'lay', 'on', 'his', 'armour-like', 'back', ',', 'and', 'if', 'he', 'lifted', 'his', 'head', 'a', 'little', 'he', 'could', 'see', 'his', 'brown', 'belly', ',', 'slightly', 'domed', 'and', 'divided', 'by', 'arches', 'into', 'stiff', 'sections', '.', 'The', 'bedding', 'was', 'hardly', 'able', 'to', 'cover', 'it', 'and', 'seemed', 'ready', 'to', 'slide', 'off', 'any', 'moment', '.', 'His', 'many', 'legs', ',', 'pitifully', 'thin', 'compared', 'with', 'the', 'size', 'of', 'the', 'rest', 'of', 'him', ',', 'waved', 'about', 'helplessly', 'as', 'he', 'looked', '.', '``', 'What', \"'s\", 'happened', 'to', 'me', '?', \"''\", 'he', 'thought', '.', 'It', 'was', \"n't\", 'a', 'dream', '.', 'His', 'room', ',', 'a', 'proper', 'human', 'room', 'although', 'a', 'little', 'too', 'small', ',', 'lay', 'peacefully', 'between', 'its', 'four', 'familiar', 'walls', '.', 'A', 'collection', 'of', 'textile', 'samples', 'lay', 'spread', 'out', 'on', 'the', 'table', '-', 'Samsa', 'was', 'a', 'travelling', 'salesman', '-', 'and', 'above', 'it', 'there', 'hung', 'a', 'picture', 'that', 'he', 'had', 'recently', 'cut', 'out', 'of', 'an', 'illustrated', 'magazine', 'and', 'housed', 'in', 'a', 'nice', ',', 'gilded', 'frame', '.', 'It', 'showed', 'a', 'lady', 'fitted', 'out', 'with', 'a', 'fur', 'hat', 'and', 'fur', 'boa', 'who', 'sat', 'upright', ',', 'raising', 'a', 'heavy', 'fur', 'muff', 'that', 'covered', 'the', 'whole', 'of', 'her', 'lower', 'arm', 'towards', 'the', 'viewer', '.', 'Gregor', 'then', 'turned', 'to', 'look', 'out', 'the', 'window', 'at', 'the', 'dull', 'weather', '.']\n"
          ]
        }
      ],
      "source": [
        "from nltk.tokenize import word_tokenize\n",
        "nltk.download('punkt')\n",
        "\n",
        "nltk_tokens = word_tokenize(text_lines)\n",
        "print(len(nltk_tokens), nltk_tokens)"
      ]
    },
    {
      "cell_type": "markdown",
      "metadata": {
        "id": "Bq_88qh0fqE4"
      },
      "source": [
        "### Using `spaCy` <a name=\"tknz-spacy\"></a>"
      ]
    },
    {
      "cell_type": "code",
      "execution_count": null,
      "metadata": {
        "colab": {
          "base_uri": "https://localhost:8080/"
        },
        "id": "CMoUhOGGfqE4",
        "outputId": "69b7bba6-4836-47ef-ed8c-1277fef152f1"
      },
      "outputs": [
        {
          "output_type": "stream",
          "name": "stdout",
          "text": [
            "247\n",
            "[One, morning, ,, when, Gregor, Samsa, woke, from, troubled, dreams, ,, \n",
            " , he, found, himself, transformed, in, his, bed, into, a, horrible, vermin, .,  , He, lay, \n",
            " , on, his, armour, -, like, back, ,, and, if, he, lifted, his, head, a, little, he, could, see, his, \n",
            " , brown, belly, ,, slightly, domed, and, divided, by, arches, into, stiff, sections, .,  \n",
            " , The, bedding, was, hardly, able, to, cover, it, and, seemed, ready, to, slide, off, any, \n",
            " , moment, .,  , His, many, legs, ,, pitifully, thin, compared, with, the, size, of, the, rest, of, \n",
            " , him, ,, waved, about, helplessly, as, he, looked, .,  , \", What, 's, happened, to, me, ?, \", he, thought, .,  \n",
            " , It, was, n't, a, dream, .,  , His, room, ,, a, proper, human, room, although, a, little, too, small, ,, \n",
            " , lay, peacefully, between, its, four, familiar, walls, .,  , A, collection, of, textile, \n",
            " , samples, lay, spread, out, on, the, table, -, Samsa, was, a, travelling, salesman, -, and, \n",
            " , above, it, there, hung, a, picture, that, he, had, recently, cut, out, of, an, illustrated, \n",
            " , magazine, and, housed, in, a, nice, ,, gilded, frame, .,  , It, showed, a, lady, fitted, out, with, \n",
            " , a, fur, hat, and, fur, boa, who, sat, upright, ,, raising, a, heavy, fur, muff, that, covered, \n",
            " , the, whole, of, her, lower, arm, towards, the, viewer, .,  , Gregor, then, turned, to, look, out, \n",
            " , the, window, at, the, dull, weather, .]\n"
          ]
        }
      ],
      "source": [
        "nlp = spacy.load(\"en_core_web_sm\")\n",
        "doc = nlp(text_lines)\n",
        "spacy_tokens = list([token for token in doc])\n",
        "print(len(spacy_tokens))\n",
        "print(spacy_tokens)"
      ]
    },
    {
      "cell_type": "markdown",
      "metadata": {
        "id": "wfUX079EfqE4"
      },
      "source": [
        "### Using `gensim` <a name=\"tknz-gensim\"></a>"
      ]
    },
    {
      "cell_type": "code",
      "execution_count": null,
      "metadata": {
        "colab": {
          "base_uri": "https://localhost:8080/"
        },
        "id": "pZ7duM1nfqE4",
        "outputId": "a02dcaff-49da-43a1-8c37-81c1c7d28ee1"
      },
      "outputs": [
        {
          "output_type": "stream",
          "name": "stdout",
          "text": [
            "200\n",
            "['One', 'morning', 'when', 'Gregor', 'Samsa', 'woke', 'from', 'troubled', 'dreams', 'he', 'found', 'himself', 'transformed', 'in', 'his', 'bed', 'into', 'a', 'horrible', 'vermin', 'He', 'lay', 'on', 'his', 'armour', 'like', 'back', 'and', 'if', 'he', 'lifted', 'his', 'head', 'a', 'little', 'he', 'could', 'see', 'his', 'brown', 'belly', 'slightly', 'domed', 'and', 'divided', 'by', 'arches', 'into', 'stiff', 'sections', 'The', 'bedding', 'was', 'hardly', 'able', 'to', 'cover', 'it', 'and', 'seemed', 'ready', 'to', 'slide', 'off', 'any', 'moment', 'His', 'many', 'legs', 'pitifully', 'thin', 'compared', 'with', 'the', 'size', 'of', 'the', 'rest', 'of', 'him', 'waved', 'about', 'helplessly', 'as', 'he', 'looked', 'What', 's', 'happened', 'to', 'me', 'he', 'thought', 'It', 'wasn', 't', 'a', 'dream', 'His', 'room', 'a', 'proper', 'human', 'room', 'although', 'a', 'little', 'too', 'small', 'lay', 'peacefully', 'between', 'its', 'four', 'familiar', 'walls', 'A', 'collection', 'of', 'textile', 'samples', 'lay', 'spread', 'out', 'on', 'the', 'table', 'Samsa', 'was', 'a', 'travelling', 'salesman', 'and', 'above', 'it', 'there', 'hung', 'a', 'picture', 'that', 'he', 'had', 'recently', 'cut', 'out', 'of', 'an', 'illustrated', 'magazine', 'and', 'housed', 'in', 'a', 'nice', 'gilded', 'frame', 'It', 'showed', 'a', 'lady', 'fitted', 'out', 'with', 'a', 'fur', 'hat', 'and', 'fur', 'boa', 'who', 'sat', 'upright', 'raising', 'a', 'heavy', 'fur', 'muff', 'that', 'covered', 'the', 'whole', 'of', 'her', 'lower', 'arm', 'towards', 'the', 'viewer', 'Gregor', 'then', 'turned', 'to', 'look', 'out', 'the', 'window', 'at', 'the', 'dull', 'weather']\n"
          ]
        }
      ],
      "source": [
        "from gensim.utils import tokenize\n",
        "\n",
        "gensim_tokens = list(tokenize(text_lines))\n",
        "print(len(gensim_tokens))\n",
        "print(gensim_tokens)"
      ]
    },
    {
      "cell_type": "markdown",
      "metadata": {
        "id": "fgaSfmZrfqE4"
      },
      "source": [
        "### Tokenization Comparision <a name=\"tknz-compare\"></a>\n",
        "\n",
        " - it seems that `gensim` uses the same `re` function, that we showed above. Both returned only words\n",
        " - `nltk` and `spacy` return also punctuations\n",
        " - `spacy` treats a whitespace as a token if there is a double whitespace. In our text each sentence-ending dot is followed by double whitespace. We could clean this but at least we see that `spacy` behaves differently\n",
        " - **not or n't** contraction gives different results. `spacy` and `nltk` splits *wasn't* to *was* and *n't*, whereas `re` and `gensim` to *wasn* and *t*.\n",
        " - when there is a hyphen between words, we get 3 different results. Our example is armour-like. `nltk` returns **a single token**: *armour-like*, `re` and `gensim` return **two tokens**: *armour* and *like*. `spacy` returns **three tokens**: *armour*, *-*, and *like*\n",
        " - `nltk` converts quotation marks. Quote opening: **``**, quote closing **' '**"
      ]
    },
    {
      "cell_type": "markdown",
      "metadata": {
        "id": "DxLBY4TYfqE5"
      },
      "source": [
        "## Tokenize Sentences <a name=\"tknz-sents\"></a>"
      ]
    },
    {
      "cell_type": "markdown",
      "metadata": {
        "id": "U8Y82vxnfqE5"
      },
      "source": [
        "### Using `re` <a name=\"tknz-sents-re\"></a>"
      ]
    },
    {
      "cell_type": "code",
      "execution_count": null,
      "metadata": {
        "colab": {
          "base_uri": "https://localhost:8080/"
        },
        "id": "Lt84fLP3fqE5",
        "outputId": "afce97ef-7cab-4a8b-c141-6b82d5eebf6a"
      },
      "outputs": [
        {
          "output_type": "execute_result",
          "data": {
            "text/plain": [
              "(12,\n",
              " ['One morning, when Gregor Samsa woke from troubled dreams,\\n he found himself transformed in his bed into a horrible vermin',\n",
              "  '  He lay \\n on his armour-like back, and if he lifted his head a little he could see his \\n brown belly, slightly domed and divided by arches into stiff sections',\n",
              "  '  \\n The bedding was hardly able to cover it and seemed ready to slide off any \\n moment',\n",
              "  '  His many legs, pitifully thin compared with the size of the rest of \\n him, waved about helplessly as he looked',\n",
              "  '  \"What\\'s happened to me',\n",
              "  '\" he thought',\n",
              "  \"  \\n It wasn't a dream\",\n",
              "  '  His room, a proper human room although a little too small, \\n lay peacefully between its four familiar walls',\n",
              "  '  A collection of textile \\n samples lay spread out on the table - Samsa was a travelling salesman - and \\n above it there hung a picture that he had recently cut out of an illustrated \\n magazine and housed in a nice, gilded frame',\n",
              "  '  It showed a lady fitted out with \\n a fur hat and fur boa who sat upright, raising a heavy fur muff that covered \\n the whole of her lower arm towards the viewer',\n",
              "  '  Gregor then turned to look out \\n the window at the dull weather',\n",
              "  ''])"
            ]
          },
          "metadata": {},
          "execution_count": 45
        }
      ],
      "source": [
        "re_sentences = re.compile('[.?!]').split(text_lines)\n",
        "len(re_sentences), re_sentences"
      ]
    },
    {
      "cell_type": "markdown",
      "metadata": {
        "id": "Rjpg5jsKfqE5"
      },
      "source": [
        "### Using `nltk` <a name=\"tknz-sents-nltk\"></a>"
      ]
    },
    {
      "cell_type": "code",
      "execution_count": null,
      "metadata": {
        "colab": {
          "base_uri": "https://localhost:8080/"
        },
        "id": "o7t_uDJ3fqE5",
        "outputId": "06a4d3a7-07d0-4df3-c489-00ec7456b940"
      },
      "outputs": [
        {
          "output_type": "stream",
          "name": "stdout",
          "text": [
            "11 ['One morning, when Gregor Samsa woke from troubled dreams,\\n he found himself transformed in his bed into a horrible vermin.', 'He lay \\n on his armour-like back, and if he lifted his head a little he could see his \\n brown belly, slightly domed and divided by arches into stiff sections.', 'The bedding was hardly able to cover it and seemed ready to slide off any \\n moment.', 'His many legs, pitifully thin compared with the size of the rest of \\n him, waved about helplessly as he looked.', '\"What\\'s happened to me?\"', 'he thought.', \"It wasn't a dream.\", 'His room, a proper human room although a little too small, \\n lay peacefully between its four familiar walls.', 'A collection of textile \\n samples lay spread out on the table - Samsa was a travelling salesman - and \\n above it there hung a picture that he had recently cut out of an illustrated \\n magazine and housed in a nice, gilded frame.', 'It showed a lady fitted out with \\n a fur hat and fur boa who sat upright, raising a heavy fur muff that covered \\n the whole of her lower arm towards the viewer.', 'Gregor then turned to look out \\n the window at the dull weather.']\n"
          ]
        }
      ],
      "source": [
        "from nltk.tokenize import sent_tokenize\n",
        "\n",
        "nltk_sentences = sent_tokenize(text_lines)\n",
        "print(len(nltk_sentences), nltk_sentences)"
      ]
    },
    {
      "cell_type": "markdown",
      "metadata": {
        "id": "nhlB9vhofqE5"
      },
      "source": [
        "### Using `spaCy` <a name=\"tknz-sents-spacy\"></a>"
      ]
    },
    {
      "cell_type": "code",
      "execution_count": null,
      "metadata": {
        "colab": {
          "base_uri": "https://localhost:8080/"
        },
        "id": "rZ7fu0IYfqE5",
        "outputId": "2fa19e1f-230a-451d-f7bf-98f4eabffeaf"
      },
      "outputs": [
        {
          "output_type": "execute_result",
          "data": {
            "text/plain": [
              "(13, [One morning, when Gregor Samsa woke from troubled dreams,\n",
              "   he found himself transformed in his bed into a horrible vermin.  , He lay \n",
              "   on his armour-like back, and if he lifted his head a little he could see his \n",
              "   brown belly, slightly domed and divided by arches into stiff sections.  \n",
              "   , The bedding was hardly able to cover it and seemed ready to slide off any \n",
              "   moment.  , His many legs, pitifully thin compared with the size of the rest of \n",
              "   him, waved about helplessly as he looked.  , \"What's happened to me?, \" he thought.  \n",
              "   , It wasn't a dream.  , His room, a proper human room although a little too small, \n",
              "   lay peacefully between its four familiar walls.  , A collection of textile \n",
              "   samples lay spread out on the table - Samsa was a travelling salesman - and \n",
              "   above it there, hung a picture that he had recently cut out of an illustrated \n",
              "   magazine and housed in a nice, gilded frame.  , It showed a lady fitted out with \n",
              "   a fur hat and fur boa who sat upright, raising a heavy fur muff that covered \n",
              "   , the whole of her lower arm towards the viewer.  , Gregor then turned to look out \n",
              "   the window at the dull weather.])"
            ]
          },
          "metadata": {},
          "execution_count": 47
        }
      ],
      "source": [
        "nlp = spacy.load(\"en_core_web_sm\")\n",
        "doc = nlp(text_lines)\n",
        "spacy_sentences = list([sent for sent in doc.sents])\n",
        "len(spacy_sentences), spacy_sentences"
      ]
    },
    {
      "cell_type": "markdown",
      "metadata": {
        "id": "iaM2N-WxfqE5"
      },
      "source": [
        "## Stopwords Removal <a name=\"stopwords\"></a>"
      ]
    },
    {
      "cell_type": "markdown",
      "metadata": {
        "id": "ScoqAHxVfqE6"
      },
      "source": [
        "We'll ignore punctuations. Tokenization step using `re` gives us exactly that."
      ]
    },
    {
      "cell_type": "markdown",
      "metadata": {
        "id": "hpQTgxsVfqE6"
      },
      "source": [
        "### Using `nltk` <a name=\"stopwords-nltk\"></a>"
      ]
    },
    {
      "cell_type": "code",
      "execution_count": null,
      "metadata": {
        "colab": {
          "base_uri": "https://localhost:8080/"
        },
        "id": "zPTZvC3XfqE6",
        "outputId": "db91b462-baa1-4efc-e694-de49efa02630"
      },
      "outputs": [
        {
          "output_type": "stream",
          "name": "stdout",
          "text": [
            "[nltk_data] Downloading package stopwords to /root/nltk_data...\n",
            "[nltk_data]   Package stopwords is already up-to-date!\n",
            "106 ['One', 'morning', 'Gregor', 'Samsa', 'woke', 'troubled', 'dreams', 'found', 'transformed', 'bed', 'horrible', 'vermin', 'lay', 'armour', 'like', 'back', 'lifted', 'head', 'little', 'could', 'see', 'brown', 'belly', 'slightly', 'domed', 'divided', 'arches', 'stiff', 'sections', 'bedding', 'hardly', 'able', 'cover', 'seemed', 'ready', 'slide', 'moment', 'many', 'legs', 'pitifully', 'thin', 'compared', 'size', 'rest', 'waved', 'helplessly', 'looked', 'happened', 'thought', 'dream', 'room', 'proper', 'human', 'room', 'although', 'little', 'small', 'lay', 'peacefully', 'four', 'familiar', 'walls', 'collection', 'textile', 'samples', 'lay', 'spread', 'table', 'Samsa', 'travelling', 'salesman', 'hung', 'picture', 'recently', 'cut', 'illustrated', 'magazine', 'housed', 'nice', 'gilded', 'frame', 'showed', 'lady', 'fitted', 'fur', 'hat', 'fur', 'boa', 'sat', 'upright', 'raising', 'heavy', 'fur', 'muff', 'covered', 'whole', 'lower', 'arm', 'towards', 'viewer', 'Gregor', 'turned', 'look', 'window', 'dull', 'weather']\n"
          ]
        }
      ],
      "source": [
        "from nltk.corpus import stopwords\n",
        "nltk.download('stopwords')\n",
        "\n",
        "stop_words_nltk = stopwords.words('english')\n",
        "# print(len(stop_words_nltk),stop_words_nltk)\n",
        "\n",
        "filtered_nltk = [word for word in re_tokens if word.lower() not in stop_words_nltk]\n",
        "print(len(filtered_nltk), filtered_nltk)"
      ]
    },
    {
      "cell_type": "markdown",
      "metadata": {
        "id": "LdBPnLnefqE7"
      },
      "source": [
        "### Using `spaCy` <a name=\"stopwords-spacy\"></a>"
      ]
    },
    {
      "cell_type": "code",
      "execution_count": null,
      "metadata": {
        "colab": {
          "base_uri": "https://localhost:8080/"
        },
        "id": "SuTDmdV3fqE7",
        "outputId": "50e089a0-2c67-4b5c-f5ae-f727b9a29d6a"
      },
      "outputs": [
        {
          "output_type": "stream",
          "name": "stdout",
          "text": [
            "99 ['morning', 'Gregor', 'Samsa', 'woke', 'troubled', 'dreams', 'found', 'transformed', 'bed', 'horrible', 'vermin', 'lay', 'armour', 'like', 'lifted', 'head', 'little', 'brown', 'belly', 'slightly', 'domed', 'divided', 'arches', 'stiff', 'sections', 'bedding', 'hardly', 'able', 'cover', 'ready', 'slide', 'moment', 'legs', 'pitifully', 'thin', 'compared', 'size', 'rest', 'waved', 'helplessly', 'looked', 's', 'happened', 'thought', 'wasn', 't', 'dream', 'room', 'proper', 'human', 'room', 'little', 'small', 'lay', 'peacefully', 'familiar', 'walls', 'collection', 'textile', 'samples', 'lay', 'spread', 'table', 'Samsa', 'travelling', 'salesman', 'hung', 'picture', 'recently', 'cut', 'illustrated', 'magazine', 'housed', 'nice', 'gilded', 'frame', 'showed', 'lady', 'fitted', 'fur', 'hat', 'fur', 'boa', 'sat', 'upright', 'raising', 'heavy', 'fur', 'muff', 'covered', 'lower', 'arm', 'viewer', 'Gregor', 'turned', 'look', 'window', 'dull', 'weather']\n"
          ]
        }
      ],
      "source": [
        "stop_words_spacy = nlp.Defaults.stop_words\n",
        "\n",
        "filtered_spacy = [word for word in re_tokens if word.lower() not in stop_words_spacy]\n",
        "print(len(filtered_spacy), filtered_spacy)"
      ]
    },
    {
      "cell_type": "markdown",
      "metadata": {
        "id": "ZD5paBeEfqE8"
      },
      "source": [
        "### Using `gensim` <a name=\"stopwords-gensim\"></a>"
      ]
    },
    {
      "cell_type": "code",
      "execution_count": null,
      "metadata": {
        "colab": {
          "base_uri": "https://localhost:8080/"
        },
        "id": "UX5J93H2fqE8",
        "outputId": "e93e921c-39a3-4bed-f43b-d58709570622"
      },
      "outputs": [
        {
          "output_type": "stream",
          "name": "stdout",
          "text": [
            "97 ['morning', 'Gregor', 'Samsa', 'woke', 'troubled', 'dreams', 'transformed', 'bed', 'horrible', 'vermin', 'lay', 'armour', 'like', 'lifted', 'head', 'little', 'brown', 'belly', 'slightly', 'domed', 'divided', 'arches', 'stiff', 'sections', 'bedding', 'hardly', 'able', 'cover', 'ready', 'slide', 'moment', 'legs', 'pitifully', 'compared', 'size', 'rest', 'waved', 'helplessly', 'looked', 's', 'happened', 'thought', 'wasn', 't', 'dream', 'room', 'proper', 'human', 'room', 'little', 'small', 'lay', 'peacefully', 'familiar', 'walls', 'collection', 'textile', 'samples', 'lay', 'spread', 'table', 'Samsa', 'travelling', 'salesman', 'hung', 'picture', 'recently', 'cut', 'illustrated', 'magazine', 'housed', 'nice', 'gilded', 'frame', 'showed', 'lady', 'fitted', 'fur', 'hat', 'fur', 'boa', 'sat', 'upright', 'raising', 'heavy', 'fur', 'muff', 'covered', 'lower', 'arm', 'viewer', 'Gregor', 'turned', 'look', 'window', 'dull', 'weather']\n"
          ]
        }
      ],
      "source": [
        "from gensim.parsing.preprocessing import STOPWORDS\n",
        "\n",
        "stop_words_gensim = STOPWORDS\n",
        "\n",
        "filtered_gensim = [word for word in re_tokens if word.lower() not in stop_words_gensim]\n",
        "print(len(filtered_gensim), filtered_gensim)"
      ]
    },
    {
      "cell_type": "markdown",
      "metadata": {
        "id": "IDCfmbUKfqE8"
      },
      "source": [
        "Another method from gensim using the `remove_stopwords` function."
      ]
    },
    {
      "cell_type": "code",
      "execution_count": null,
      "metadata": {
        "colab": {
          "base_uri": "https://localhost:8080/"
        },
        "id": "UbFceiH2fqE8",
        "outputId": "7cb8b645-41d2-4676-c0fd-684b3805bfa2"
      },
      "outputs": [
        {
          "output_type": "stream",
          "name": "stdout",
          "text": [
            "713 One morning, Gregor Samsa woke troubled dreams, transformed bed horrible vermin. He lay armour-like back, lifted head little brown belly, slightly domed divided arches stiff sections. The bedding hardly able cover ready slide moment. His legs, pitifully compared size rest him, waved helplessly looked. \"What's happened me?\" thought. It wasn't dream. His room, proper human room little small, lay peacefully familiar walls. A collection textile samples lay spread table - Samsa travelling salesman - hung picture recently cut illustrated magazine housed nice, gilded frame. It showed lady fitted fur hat fur boa sat upright, raising heavy fur muff covered lower arm viewer. Gregor turned look window dull weather.\n"
          ]
        }
      ],
      "source": [
        "from gensim.parsing.preprocessing import remove_stopwords\n",
        "\n",
        "filtered_sentence_gensim = remove_stopwords(text_lines)\n",
        "print(len(filtered_sentence_gensim), filtered_sentence_gensim)"
      ]
    },
    {
      "cell_type": "markdown",
      "metadata": {
        "id": "0l8cAPu4fqE8"
      },
      "source": [
        "### Comparing results <a name=\"stopwords-compare\"></a>"
      ]
    },
    {
      "cell_type": "markdown",
      "metadata": {
        "id": "VDgnp7PRfqE8"
      },
      "source": [
        "**`nltk` vs `spacy`**"
      ]
    },
    {
      "cell_type": "code",
      "execution_count": null,
      "metadata": {
        "colab": {
          "base_uri": "https://localhost:8080/"
        },
        "id": "9g_ix9d4fqE8",
        "outputId": "2bb73ab0-8121-4eb2-9c94-a008278ee0aa"
      },
      "outputs": [
        {
          "output_type": "execute_result",
          "data": {
            "text/plain": [
              "['could',\n",
              " 'although',\n",
              " 'seemed',\n",
              " 'many',\n",
              " 't',\n",
              " 'back',\n",
              " 'see',\n",
              " 's',\n",
              " 'four',\n",
              " 'towards',\n",
              " 'wasn',\n",
              " 'One',\n",
              " 'whole']"
            ]
          },
          "metadata": {},
          "execution_count": 52
        }
      ],
      "source": [
        "list(set(filtered_nltk) ^ set(filtered_spacy))"
      ]
    },
    {
      "cell_type": "markdown",
      "metadata": {
        "id": "IeWX8fsCfqE8"
      },
      "source": [
        "**`nltk` vs `gensim`**"
      ]
    },
    {
      "cell_type": "code",
      "execution_count": null,
      "metadata": {
        "colab": {
          "base_uri": "https://localhost:8080/"
        },
        "id": "2lhYjsakfqE9",
        "outputId": "e6a89324-bbe0-473c-a5c1-c7f0a2bb82e2"
      },
      "outputs": [
        {
          "output_type": "execute_result",
          "data": {
            "text/plain": [
              "['could',\n",
              " 'although',\n",
              " 'seemed',\n",
              " 'found',\n",
              " 'many',\n",
              " 't',\n",
              " 'back',\n",
              " 'see',\n",
              " 's',\n",
              " 'thin',\n",
              " 'four',\n",
              " 'towards',\n",
              " 'wasn',\n",
              " 'One',\n",
              " 'whole']"
            ]
          },
          "metadata": {},
          "execution_count": 53
        }
      ],
      "source": [
        "list(set(filtered_nltk) ^ set(filtered_gensim))"
      ]
    },
    {
      "cell_type": "markdown",
      "metadata": {
        "id": "iqKb0mYufqE9"
      },
      "source": [
        "**`gensim` vs `spacy`**"
      ]
    },
    {
      "cell_type": "code",
      "execution_count": null,
      "metadata": {
        "colab": {
          "base_uri": "https://localhost:8080/"
        },
        "id": "gCqngaR3fqE9",
        "outputId": "8fcd836e-6b21-424c-bbbb-1b7e87b8dbe2"
      },
      "outputs": [
        {
          "output_type": "execute_result",
          "data": {
            "text/plain": [
              "['found', 'thin']"
            ]
          },
          "metadata": {},
          "execution_count": 54
        }
      ],
      "source": [
        "list(set(filtered_gensim) ^ set(filtered_spacy))"
      ]
    },
    {
      "cell_type": "markdown",
      "metadata": {
        "id": "J5Pvua1PfqE9"
      },
      "source": [
        "### Comparing stopwords lists <a name=\"stopwords-compare2\"></a>"
      ]
    },
    {
      "cell_type": "markdown",
      "metadata": {
        "id": "m0NCzbq2fqE9"
      },
      "source": [
        "Lists of words"
      ]
    },
    {
      "cell_type": "code",
      "execution_count": null,
      "metadata": {
        "id": "0OQYsYeTfqE9"
      },
      "outputs": [],
      "source": [
        "# print(\"NLTK stopwords\",stop_words_nltk)\n",
        "# print(\"Spacy stopwords\",stop_words_spacy)\n",
        "# print(\"Gensim stopwords\",stop_words_gensim)"
      ]
    },
    {
      "cell_type": "markdown",
      "metadata": {
        "id": "Abp-mLshfqE9"
      },
      "source": [
        "Comparing length"
      ]
    },
    {
      "cell_type": "code",
      "execution_count": null,
      "metadata": {
        "colab": {
          "base_uri": "https://localhost:8080/"
        },
        "id": "3yxuHBr-fqE9",
        "outputId": "03d97b73-5115-444b-cc1c-d2dec5204e01"
      },
      "outputs": [
        {
          "output_type": "stream",
          "name": "stdout",
          "text": [
            "NLTK stopwords len 179\n",
            "Spacy stopwords len 326\n",
            "Gensim stopwords len 337\n"
          ]
        }
      ],
      "source": [
        "print(\"NLTK stopwords len\", len(stop_words_nltk))\n",
        "print(\"Spacy stopwords len\", len(stop_words_spacy))\n",
        "print(\"Gensim stopwords len\", len(stop_words_gensim))"
      ]
    },
    {
      "cell_type": "markdown",
      "metadata": {
        "id": "6xYxJR-2fqE9"
      },
      "source": [
        "## Lemmatization <a name=\"lemma\"></a>\n",
        "\n",
        "For lemmatization we'll ignore punctuations. Tokenization step using `re` gives us exactly that."
      ]
    },
    {
      "cell_type": "markdown",
      "metadata": {
        "id": "nvvaVZ9kfqE-"
      },
      "source": [
        "### Using `nltk` <a name=\"lemma-nltk\"></a>"
      ]
    },
    {
      "cell_type": "code",
      "execution_count": null,
      "metadata": {
        "colab": {
          "base_uri": "https://localhost:8080/"
        },
        "id": "LPnqDwDnfqE-",
        "outputId": "96770e27-ef1b-4dde-ac26-64f3d1a78321"
      },
      "outputs": [
        {
          "output_type": "stream",
          "name": "stdout",
          "text": [
            "[nltk_data] Downloading package wordnet to /root/nltk_data...\n",
            "[nltk_data]   Package wordnet is already up-to-date!\n",
            "['One', 'morning', 'when', 'Gregor', 'Samsa', 'woke', 'from', 'troubled', 'dream', 'he', 'found', 'himself', 'transformed', 'in', 'his', 'bed', 'into', 'a', 'horrible', 'vermin', 'He', 'lay', 'on', 'his', 'armour', 'like', 'back', 'and', 'if', 'he', 'lifted', 'his', 'head', 'a', 'little', 'he', 'could', 'see', 'his', 'brown', 'belly', 'slightly', 'domed', 'and', 'divided', 'by', 'arch', 'into', 'stiff', 'section', 'The', 'bedding', 'wa', 'hardly', 'able', 'to', 'cover', 'it', 'and', 'seemed', 'ready', 'to', 'slide', 'off', 'any', 'moment', 'His', 'many', 'leg', 'pitifully', 'thin', 'compared', 'with', 'the', 'size', 'of', 'the', 'rest', 'of', 'him', 'waved', 'about', 'helplessly', 'a', 'he', 'looked', 'What', 's', 'happened', 'to', 'me', 'he', 'thought', 'It', 'wasn', 't', 'a', 'dream', 'His', 'room', 'a', 'proper', 'human', 'room', 'although', 'a', 'little', 'too', 'small', 'lay', 'peacefully', 'between', 'it', 'four', 'familiar', 'wall', 'A', 'collection', 'of', 'textile', 'sample', 'lay', 'spread', 'out', 'on', 'the', 'table', 'Samsa', 'wa', 'a', 'travelling', 'salesman', 'and', 'above', 'it', 'there', 'hung', 'a', 'picture', 'that', 'he', 'had', 'recently', 'cut', 'out', 'of', 'an', 'illustrated', 'magazine', 'and', 'housed', 'in', 'a', 'nice', 'gilded', 'frame', 'It', 'showed', 'a', 'lady', 'fitted', 'out', 'with', 'a', 'fur', 'hat', 'and', 'fur', 'boa', 'who', 'sat', 'upright', 'raising', 'a', 'heavy', 'fur', 'muff', 'that', 'covered', 'the', 'whole', 'of', 'her', 'lower', 'arm', 'towards', 'the', 'viewer', 'Gregor', 'then', 'turned', 'to', 'look', 'out', 'the', 'window', 'at', 'the', 'dull', 'weather']\n"
          ]
        }
      ],
      "source": [
        "from nltk.stem import WordNetLemmatizer\n",
        "nltk.download('wordnet')\n",
        "\n",
        "nltk_lemmatizer = WordNetLemmatizer()\n",
        "nltk_lemmas = [nltk_lemmatizer.lemmatize(w) for w in re_tokens]\n",
        "print(nltk_lemmas)"
      ]
    },
    {
      "cell_type": "markdown",
      "metadata": {
        "id": "OWNz0sq4fqE-"
      },
      "source": [
        "### Using `spaCy` <a name=\"lemma-spacy\"></a>\n",
        "\n",
        "[spacy documentation](https://spacy.io/api/lemmatizer)"
      ]
    },
    {
      "cell_type": "code",
      "execution_count": null,
      "metadata": {
        "colab": {
          "base_uri": "https://localhost:8080/"
        },
        "id": "AkESJVp6fqE-",
        "outputId": "7821d62e-20fd-4ba0-ad8e-27c733b90359"
      },
      "outputs": [
        {
          "output_type": "stream",
          "name": "stdout",
          "text": [
            "200 ['one', 'morning', 'when', 'Gregor', 'Samsa', 'wake', 'from', 'troubled', 'dream', '-PRON-', 'find', '-PRON-', 'transform', 'in', '-PRON-', 'bed', 'into', 'a', 'horrible', 'vermin', '-PRON-', 'lie', 'on', '-PRON-', 'armour', 'like', 'back', 'and', 'if', '-PRON-', 'lift', '-PRON-', 'head', 'a', 'little', '-PRON-', 'could', 'see', '-PRON-', 'brown', 'belly', 'slightly', 'dome', 'and', 'divide', 'by', 'arch', 'into', 'stiff', 'section', 'the', 'bedding', 'be', 'hardly', 'able', 'to', 'cover', '-PRON-', 'and', 'seem', 'ready', 'to', 'slide', 'off', 'any', 'moment', '-PRON-', 'many', 'leg', 'pitifully', 'thin', 'compare', 'with', 'the', 'size', 'of', 'the', 'rest', 'of', '-PRON-', 'wave', 'about', 'helplessly', 'as', '-PRON-', 'look', 'what', 's', 'happen', 'to', '-PRON-', '-PRON-', 'think', '-PRON-', 'wasn', 't', 'a', 'dream', '-PRON-', 'room', 'a', 'proper', 'human', 'room', 'although', 'a', 'little', 'too', 'small', 'lie', 'peacefully', 'between', '-PRON-', 'four', 'familiar', 'wall', 'a', 'collection', 'of', 'textile', 'sample', 'lie', 'spread', 'out', 'on', 'the', 'table', 'samsa', 'be', 'a', 'travel', 'salesman', 'and', 'above', '-PRON-', 'there', 'hang', 'a', 'picture', 'that', '-PRON-', 'have', 'recently', 'cut', 'out', 'of', 'an', 'illustrated', 'magazine', 'and', 'house', 'in', 'a', 'nice', 'gild', 'frame', '-PRON-', 'show', 'a', 'lady', 'fit', 'out', 'with', 'a', 'fur', 'hat', 'and', 'fur', 'boa', 'who', 'sit', 'upright', 'raise', 'a', 'heavy', 'fur', 'muff', 'that', 'cover', 'the', 'whole', 'of', '-PRON-', 'low', 'arm', 'towards', 'the', 'viewer', 'Gregor', 'then', 'turn', 'to', 'look', 'out', 'the', 'window', 'at', 'the', 'dull', 'weather']\n"
          ]
        }
      ],
      "source": [
        "# spacy_text = \" \".join([token.text for token in spacy_tokens])\n",
        "text_from_re_tokens = \" \".join([word for word in re_tokens])\n",
        "# spacy_lemmas = [word.lemma_ for word in nlp(text_lines)]\n",
        "spacy_lemmas = [word.lemma_ for word in nlp(text_from_re_tokens)]\n",
        "print(len(spacy_lemmas), spacy_lemmas)"
      ]
    },
    {
      "cell_type": "markdown",
      "metadata": {
        "id": "tMFEyD3GfqE-"
      },
      "source": [
        "### Using `TextBlob` <a name=\"lemma-tb\"></a>"
      ]
    },
    {
      "cell_type": "code",
      "execution_count": null,
      "metadata": {
        "colab": {
          "base_uri": "https://localhost:8080/"
        },
        "id": "GzZ3xwPTfqE-",
        "outputId": "a6d81f39-cc0c-4409-ddec-bd92b54e002d"
      },
      "outputs": [
        {
          "output_type": "stream",
          "name": "stdout",
          "text": [
            "200 ['One', 'morning', 'when', 'Gregor', 'Samsa', 'woke', 'from', 'troubled', 'dream', 'he', 'found', 'himself', 'transformed', 'in', 'his', 'bed', 'into', 'a', 'horrible', 'vermin', 'He', 'lay', 'on', 'his', 'armour', 'like', 'back', 'and', 'if', 'he', 'lifted', 'his', 'head', 'a', 'little', 'he', 'could', 'see', 'his', 'brown', 'belly', 'slightly', 'domed', 'and', 'divided', 'by', 'arch', 'into', 'stiff', 'section', 'The', 'bedding', 'wa', 'hardly', 'able', 'to', 'cover', 'it', 'and', 'seemed', 'ready', 'to', 'slide', 'off', 'any', 'moment', 'His', 'many', 'leg', 'pitifully', 'thin', 'compared', 'with', 'the', 'size', 'of', 'the', 'rest', 'of', 'him', 'waved', 'about', 'helplessly', 'a', 'he', 'looked', 'What', 's', 'happened', 'to', 'me', 'he', 'thought', 'It', 'wasn', 't', 'a', 'dream', 'His', 'room', 'a', 'proper', 'human', 'room', 'although', 'a', 'little', 'too', 'small', 'lay', 'peacefully', 'between', 'it', 'four', 'familiar', 'wall', 'A', 'collection', 'of', 'textile', 'sample', 'lay', 'spread', 'out', 'on', 'the', 'table', 'Samsa', 'wa', 'a', 'travelling', 'salesman', 'and', 'above', 'it', 'there', 'hung', 'a', 'picture', 'that', 'he', 'had', 'recently', 'cut', 'out', 'of', 'an', 'illustrated', 'magazine', 'and', 'housed', 'in', 'a', 'nice', 'gilded', 'frame', 'It', 'showed', 'a', 'lady', 'fitted', 'out', 'with', 'a', 'fur', 'hat', 'and', 'fur', 'boa', 'who', 'sat', 'upright', 'raising', 'a', 'heavy', 'fur', 'muff', 'that', 'covered', 'the', 'whole', 'of', 'her', 'lower', 'arm', 'towards', 'the', 'viewer', 'Gregor', 'then', 'turned', 'to', 'look', 'out', 'the', 'window', 'at', 'the', 'dull', 'weather']\n"
          ]
        }
      ],
      "source": [
        "from textblob import TextBlob, Word\n",
        "\n",
        "# create a TextBlob for our sentence\n",
        "sent_tb = TextBlob(text_from_re_tokens)\n",
        "\n",
        "# lemmatize each word\n",
        "blob_lemmas = [word.lemmatize() for word in sent_tb.words]\n",
        "print(len(blob_lemmas), blob_lemmas)"
      ]
    },
    {
      "cell_type": "markdown",
      "metadata": {
        "id": "27Bm4TOrfqE_"
      },
      "source": [
        "### Adding POS Tags to `nltk` and `TextBlob` <a name=\"lemma-tags\"></a>"
      ]
    },
    {
      "cell_type": "markdown",
      "metadata": {
        "id": "F4YU-PPnfqE_"
      },
      "source": [
        "By default, `nltk` and `TextBlob` treat every word as a noun. This is why words like \"woke\", \"found\", or \"transformed\" don't change after the lemmatization step. We can provide more information by adding the corresponding Part of Speech for each token. "
      ]
    },
    {
      "cell_type": "markdown",
      "source": [
        "### Using `nltk` <a name=\"lemma-tags-nltk\"></a>\n",
        "\n",
        " - we use `pos_tag()` to get tokens along with tags\n",
        " - we call the `lemmatize()` function with the second parameter, that is a tag\n",
        "\n",
        "[Source](https://www.guru99.com/stemming-lemmatization-python-nltk.html)"
      ],
      "metadata": {
        "id": "YcycZjvPml8i"
      }
    },
    {
      "cell_type": "code",
      "execution_count": null,
      "metadata": {
        "colab": {
          "base_uri": "https://localhost:8080/"
        },
        "id": "0UJAxh3kfqE_",
        "outputId": "00d37edb-0ef2-418f-c465-df2e16af02c6"
      },
      "outputs": [
        {
          "output_type": "stream",
          "name": "stdout",
          "text": [
            "[nltk_data] Downloading package averaged_perceptron_tagger to\n",
            "[nltk_data]     /root/nltk_data...\n",
            "[nltk_data]   Package averaged_perceptron_tagger is already up-to-\n",
            "[nltk_data]       date!\n",
            "['One', 'morning', 'when', 'Gregor', 'Samsa', 'wake', 'from', 'troubled', 'dream', 'he', 'find', 'himself', 'transform', 'in', 'his', 'bed', 'into', 'a', 'horrible', 'vermin', 'He', 'lay', 'on', 'his', 'armour', 'like', 'back', 'and', 'if', 'he', 'lift', 'his', 'head', 'a', 'little', 'he', 'could', 'see', 'his', 'brown', 'belly', 'slightly', 'domed', 'and', 'divide', 'by', 'arch', 'into', 'stiff', 'section', 'The', 'bedding', 'be', 'hardly', 'able', 'to', 'cover', 'it', 'and', 'seem', 'ready', 'to', 'slide', 'off', 'any', 'moment', 'His', 'many', 'leg', 'pitifully', 'thin', 'compare', 'with', 'the', 'size', 'of', 'the', 'rest', 'of', 'him', 'wave', 'about', 'helplessly', 'a', 'he', 'look', 'What', 's', 'happen', 'to', 'me', 'he', 'think', 'It', 'wasn', 't', 'a', 'dream', 'His', 'room', 'a', 'proper', 'human', 'room', 'although', 'a', 'little', 'too', 'small', 'lay', 'peacefully', 'between', 'it', 'four', 'familiar', 'wall', 'A', 'collection', 'of', 'textile', 'sample', 'lay', 'spread', 'out', 'on', 'the', 'table', 'Samsa', 'be', 'a', 'travelling', 'salesman', 'and', 'above', 'it', 'there', 'hang', 'a', 'picture', 'that', 'he', 'have', 'recently', 'cut', 'out', 'of', 'an', 'illustrated', 'magazine', 'and', 'house', 'in', 'a', 'nice', 'gild', 'frame', 'It', 'show', 'a', 'lady', 'fit', 'out', 'with', 'a', 'fur', 'hat', 'and', 'fur', 'boa', 'who', 'sit', 'upright', 'raise', 'a', 'heavy', 'fur', 'muff', 'that', 'cover', 'the', 'whole', 'of', 'her', 'low', 'arm', 'towards', 'the', 'viewer', 'Gregor', 'then', 'turn', 'to', 'look', 'out', 'the', 'window', 'at', 'the', 'dull', 'weather']\n"
          ]
        }
      ],
      "source": [
        "from nltk.corpus import wordnet as wn\n",
        "from nltk import pos_tag\n",
        "from collections import defaultdict\n",
        "nltk.download('averaged_perceptron_tagger')\n",
        "\n",
        "tag_map_nltk = defaultdict(lambda : wn.NOUN)\n",
        "tag_map_nltk['J'] = wn.ADJ\n",
        "tag_map_nltk['V'] = wn.VERB\n",
        "tag_map_nltk['R'] = wn.ADV\n",
        "\n",
        "nltk_lemmas2 = [nltk_lemmatizer.lemmatize(token, tag_map_nltk[tag[0]]) for token, tag in pos_tag(re_tokens)]\n",
        "print(nltk_lemmas2)"
      ]
    },
    {
      "cell_type": "markdown",
      "metadata": {
        "id": "6-i15L9afqE_"
      },
      "source": [
        "### Using `TextBlob` <a name=\"lemma-tags-tb\"></a>\n",
        "\n",
        " - we call `TextBlob(text).tags` to get tokens and tags\n",
        " - we call `word.lemmatize()` with the tag parameter\n",
        "\n",
        "[Source](https://www.machinelearningplus.com/nlp/lemmatization-examples-python/#textbloblemmatizer)"
      ]
    },
    {
      "cell_type": "code",
      "execution_count": null,
      "metadata": {
        "colab": {
          "base_uri": "https://localhost:8080/"
        },
        "id": "Gy5SbjO8fqE_",
        "outputId": "dc0d3a39-ebdb-4427-ffec-cf532296d6dd"
      },
      "outputs": [
        {
          "output_type": "stream",
          "name": "stdout",
          "text": [
            "200 ['One', 'morning', 'when', 'Gregor', 'Samsa', 'wake', 'from', 'troubled', 'dream', 'he', 'find', 'himself', 'transform', 'in', 'his', 'bed', 'into', 'a', 'horrible', 'vermin', 'He', 'lay', 'on', 'his', 'armour', 'like', 'back', 'and', 'if', 'he', 'lift', 'his', 'head', 'a', 'little', 'he', 'could', 'see', 'his', 'brown', 'belly', 'slightly', 'domed', 'and', 'divide', 'by', 'arch', 'into', 'stiff', 'section', 'The', 'bedding', 'be', 'hardly', 'able', 'to', 'cover', 'it', 'and', 'seem', 'ready', 'to', 'slide', 'off', 'any', 'moment', 'His', 'many', 'leg', 'pitifully', 'thin', 'compare', 'with', 'the', 'size', 'of', 'the', 'rest', 'of', 'him', 'wave', 'about', 'helplessly', 'a', 'he', 'look', 'What', 's', 'happen', 'to', 'me', 'he', 'think', 'It', 'wasn', 't', 'a', 'dream', 'His', 'room', 'a', 'proper', 'human', 'room', 'although', 'a', 'little', 'too', 'small', 'lay', 'peacefully', 'between', 'it', 'four', 'familiar', 'wall', 'A', 'collection', 'of', 'textile', 'sample', 'lay', 'spread', 'out', 'on', 'the', 'table', 'Samsa', 'be', 'a', 'travelling', 'salesman', 'and', 'above', 'it', 'there', 'hang', 'a', 'picture', 'that', 'he', 'have', 'recently', 'cut', 'out', 'of', 'an', 'illustrated', 'magazine', 'and', 'house', 'in', 'a', 'nice', 'gild', 'frame', 'It', 'show', 'a', 'lady', 'fit', 'out', 'with', 'a', 'fur', 'hat', 'and', 'fur', 'boa', 'who', 'sit', 'upright', 'raise', 'a', 'heavy', 'fur', 'muff', 'that', 'cover', 'the', 'whole', 'of', 'her', 'low', 'arm', 'towards', 'the', 'viewer', 'Gregor', 'then', 'turn', 'to', 'look', 'out', 'the', 'window', 'at', 'the', 'dull', 'weather']\n"
          ]
        }
      ],
      "source": [
        "tag_map_tb = {  \"J\": 'a', # adjectives\n",
        "                \"N\": 'n', # nouns\n",
        "                \"V\": 'v', # verbs\n",
        "                \"R\": 'r'} # adverbs\n",
        "\n",
        "words_and_tags = [(w, tag_map_tb.get(pos[0], 'n')) for w, pos in sent_tb.tags]\n",
        "blob_lemmas2 = [word.lemmatize(tag) for word, tag in words_and_tags]\n",
        "print(len(blob_lemmas2), blob_lemmas2)"
      ]
    },
    {
      "cell_type": "markdown",
      "metadata": {
        "id": "T1SS6ubmfqE_"
      },
      "source": [
        "### Comparing Lemmatizers <a name=\"lemma-compare\"></a>"
      ]
    },
    {
      "cell_type": "code",
      "execution_count": null,
      "metadata": {
        "colab": {
          "base_uri": "https://localhost:8080/"
        },
        "id": "Su4WKaPRfqE_",
        "outputId": "9a48f4e5-ff5e-4fdb-ec20-75cf720e4dea"
      },
      "outputs": [
        {
          "output_type": "execute_result",
          "data": {
            "text/plain": [
              "[]"
            ]
          },
          "metadata": {},
          "execution_count": 62
        }
      ],
      "source": [
        "list(set(nltk_lemmas) ^ set(blob_lemmas))"
      ]
    },
    {
      "cell_type": "code",
      "execution_count": null,
      "metadata": {
        "colab": {
          "base_uri": "https://localhost:8080/"
        },
        "id": "I8xCNQUHfqFA",
        "outputId": "8100a669-bf0e-404f-d95f-118e70ee4b41"
      },
      "outputs": [
        {
          "output_type": "execute_result",
          "data": {
            "text/plain": [
              "[]"
            ]
          },
          "metadata": {},
          "execution_count": 63
        }
      ],
      "source": [
        "list(set(nltk_lemmas2) ^ set(blob_lemmas2))"
      ]
    },
    {
      "cell_type": "markdown",
      "metadata": {
        "id": "ofrJo4U8fqFA"
      },
      "source": [
        "`nltk` and `TextBlob` return identical results.\n",
        "\n",
        "Let's see what's changed after applying POS tags"
      ]
    },
    {
      "cell_type": "code",
      "execution_count": null,
      "metadata": {
        "colab": {
          "base_uri": "https://localhost:8080/"
        },
        "id": "SvvxnfyGfqFA",
        "outputId": "79ef8607-9aa4-4fdf-cbb9-69db4eae52f5"
      },
      "outputs": [
        {
          "output_type": "execute_result",
          "data": {
            "text/plain": [
              "['be',\n",
              " 'compare',\n",
              " 'compared',\n",
              " 'covered',\n",
              " 'divide',\n",
              " 'divided',\n",
              " 'find',\n",
              " 'fit',\n",
              " 'fitted',\n",
              " 'found',\n",
              " 'gild',\n",
              " 'gilded',\n",
              " 'had',\n",
              " 'hang',\n",
              " 'happen',\n",
              " 'happened',\n",
              " 'have',\n",
              " 'house',\n",
              " 'housed',\n",
              " 'hung',\n",
              " 'lift',\n",
              " 'lifted',\n",
              " 'looked',\n",
              " 'low',\n",
              " 'lower',\n",
              " 'raise',\n",
              " 'raising',\n",
              " 'sat',\n",
              " 'seem',\n",
              " 'seemed',\n",
              " 'show',\n",
              " 'showed',\n",
              " 'sit',\n",
              " 'think',\n",
              " 'thought',\n",
              " 'transform',\n",
              " 'transformed',\n",
              " 'turn',\n",
              " 'turned',\n",
              " 'wa',\n",
              " 'wake',\n",
              " 'wave',\n",
              " 'waved',\n",
              " 'woke']"
            ]
          },
          "metadata": {},
          "execution_count": 64
        }
      ],
      "source": [
        "sorted(list(set(nltk_lemmas) ^ set(nltk_lemmas2)))"
      ]
    },
    {
      "cell_type": "markdown",
      "metadata": {
        "id": "TnAex0LSfqFA"
      },
      "source": [
        "`nltk` did a great job at turning past tense verbs to the present tense"
      ]
    },
    {
      "cell_type": "markdown",
      "metadata": {
        "id": "lSfGchvnfqFA"
      },
      "source": [
        "## Stemming with `nltk` <a name=\"stem\"></a>\n",
        "\n",
        "Compare 2 types of Stemmers. [Source](https://stackoverflow.com/questions/24647400/what-is-the-best-stemming-method-in-python)"
      ]
    },
    {
      "cell_type": "markdown",
      "metadata": {
        "id": "z7XVuTeSfqFA"
      },
      "source": [
        "### Using `PorterStemmer()` <a name=\"stem-ps\"></a>"
      ]
    },
    {
      "cell_type": "code",
      "execution_count": null,
      "metadata": {
        "colab": {
          "base_uri": "https://localhost:8080/"
        },
        "id": "VHilGLLLfqFA",
        "outputId": "b0476647-b123-4da8-be86-b8725654c955"
      },
      "outputs": [
        {
          "output_type": "stream",
          "name": "stdout",
          "text": [
            "['one', 'morn', 'when', 'gregor', 'samsa', 'woke', 'from', 'troubl', 'dream', 'he', 'found', 'himself', 'transform', 'in', 'hi', 'bed', 'into', 'a', 'horribl', 'vermin', 'He', 'lay', 'on', 'hi', 'armour', 'like', 'back', 'and', 'if', 'he', 'lift', 'hi', 'head', 'a', 'littl', 'he', 'could', 'see', 'hi', 'brown', 'belli', 'slightli', 'dome', 'and', 'divid', 'by', 'arch', 'into', 'stiff', 'section', 'the', 'bed', 'wa', 'hardli', 'abl', 'to', 'cover', 'it', 'and', 'seem', 'readi', 'to', 'slide', 'off', 'ani', 'moment', 'hi', 'mani', 'leg', 'piti', 'thin', 'compar', 'with', 'the', 'size', 'of', 'the', 'rest', 'of', 'him', 'wave', 'about', 'helplessli', 'as', 'he', 'look', 'what', 's', 'happen', 'to', 'me', 'he', 'thought', 'It', 'wasn', 't', 'a', 'dream', 'hi', 'room', 'a', 'proper', 'human', 'room', 'although', 'a', 'littl', 'too', 'small', 'lay', 'peac', 'between', 'it', 'four', 'familiar', 'wall', 'A', 'collect', 'of', 'textil', 'sampl', 'lay', 'spread', 'out', 'on', 'the', 'tabl', 'samsa', 'wa', 'a', 'travel', 'salesman', 'and', 'abov', 'it', 'there', 'hung', 'a', 'pictur', 'that', 'he', 'had', 'recent', 'cut', 'out', 'of', 'an', 'illustr', 'magazin', 'and', 'hous', 'in', 'a', 'nice', 'gild', 'frame', 'It', 'show', 'a', 'ladi', 'fit', 'out', 'with', 'a', 'fur', 'hat', 'and', 'fur', 'boa', 'who', 'sat', 'upright', 'rais', 'a', 'heavi', 'fur', 'muff', 'that', 'cover', 'the', 'whole', 'of', 'her', 'lower', 'arm', 'toward', 'the', 'viewer', 'gregor', 'then', 'turn', 'to', 'look', 'out', 'the', 'window', 'at', 'the', 'dull', 'weather']\n"
          ]
        }
      ],
      "source": [
        "from nltk.stem import PorterStemmer\n",
        "\n",
        "ps = PorterStemmer()\n",
        "\n",
        "ps_stemms = [ps.stem(w) for w in re_tokens]\n",
        "print(ps_stemms)"
      ]
    },
    {
      "cell_type": "markdown",
      "source": [
        "### Using `SnowballStemmer` <a name=\"stem-sno\"></a>"
      ],
      "metadata": {
        "id": "rzWH37HinpRn"
      }
    },
    {
      "cell_type": "code",
      "execution_count": null,
      "metadata": {
        "colab": {
          "base_uri": "https://localhost:8080/"
        },
        "id": "eTyvqXMQfqFA",
        "outputId": "8cb2787e-3387-40ec-ace8-b21330153e6d"
      },
      "outputs": [
        {
          "output_type": "stream",
          "name": "stdout",
          "text": [
            "['one', 'morn', 'when', 'gregor', 'samsa', 'woke', 'from', 'troubl', 'dream', 'he', 'found', 'himself', 'transform', 'in', 'his', 'bed', 'into', 'a', 'horribl', 'vermin', 'he', 'lay', 'on', 'his', 'armour', 'like', 'back', 'and', 'if', 'he', 'lift', 'his', 'head', 'a', 'littl', 'he', 'could', 'see', 'his', 'brown', 'belli', 'slight', 'dome', 'and', 'divid', 'by', 'arch', 'into', 'stiff', 'section', 'the', 'bed', 'was', 'hard', 'abl', 'to', 'cover', 'it', 'and', 'seem', 'readi', 'to', 'slide', 'off', 'ani', 'moment', 'his', 'mani', 'leg', 'piti', 'thin', 'compar', 'with', 'the', 'size', 'of', 'the', 'rest', 'of', 'him', 'wave', 'about', 'helpless', 'as', 'he', 'look', 'what', 's', 'happen', 'to', 'me', 'he', 'thought', 'it', 'wasn', 't', 'a', 'dream', 'his', 'room', 'a', 'proper', 'human', 'room', 'although', 'a', 'littl', 'too', 'small', 'lay', 'peac', 'between', 'it', 'four', 'familiar', 'wall', 'a', 'collect', 'of', 'textil', 'sampl', 'lay', 'spread', 'out', 'on', 'the', 'tabl', 'samsa', 'was', 'a', 'travel', 'salesman', 'and', 'abov', 'it', 'there', 'hung', 'a', 'pictur', 'that', 'he', 'had', 'recent', 'cut', 'out', 'of', 'an', 'illustr', 'magazin', 'and', 'hous', 'in', 'a', 'nice', 'gild', 'frame', 'it', 'show', 'a', 'ladi', 'fit', 'out', 'with', 'a', 'fur', 'hat', 'and', 'fur', 'boa', 'who', 'sat', 'upright', 'rais', 'a', 'heavi', 'fur', 'muff', 'that', 'cover', 'the', 'whole', 'of', 'her', 'lower', 'arm', 'toward', 'the', 'viewer', 'gregor', 'then', 'turn', 'to', 'look', 'out', 'the', 'window', 'at', 'the', 'dull', 'weather']\n"
          ]
        }
      ],
      "source": [
        "from nltk.stem import SnowballStemmer\n",
        "\n",
        "sno = SnowballStemmer('english')\n",
        "\n",
        "sno_stemms = [sno.stem(w) for w in re_tokens]\n",
        "print(sno_stemms)"
      ]
    },
    {
      "cell_type": "markdown",
      "source": [
        "### Comparing Stemmers <a name=\"stem-compare\"></a>"
      ],
      "metadata": {
        "id": "_WMEwkC-nvGF"
      }
    },
    {
      "cell_type": "code",
      "execution_count": null,
      "metadata": {
        "colab": {
          "base_uri": "https://localhost:8080/"
        },
        "id": "T-0L_4n6fqFA",
        "outputId": "05be2d1d-2d45-4431-baf6-ad81426309ba"
      },
      "outputs": [
        {
          "output_type": "execute_result",
          "data": {
            "text/plain": [
              "['A',\n",
              " 'He',\n",
              " 'It',\n",
              " 'hard',\n",
              " 'hardli',\n",
              " 'helpless',\n",
              " 'helplessli',\n",
              " 'hi',\n",
              " 'his',\n",
              " 'slight',\n",
              " 'slightli',\n",
              " 'wa',\n",
              " 'was']"
            ]
          },
          "metadata": {},
          "execution_count": 67
        }
      ],
      "source": [
        "sorted(list(set(ps_stemms) ^ set(sno_stemms)))"
      ]
    },
    {
      "cell_type": "markdown",
      "metadata": {
        "id": "z9CDoCtqfqFA"
      },
      "source": [
        "`PorterStemmer` and `SnowballStemmer` handle adverbs differently"
      ]
    },
    {
      "cell_type": "markdown",
      "metadata": {
        "id": "iECs0fhpfqFB"
      },
      "source": [
        ""
      ]
    }
  ],
  "metadata": {
    "interpreter": {
      "hash": "9a4f0234084b86db25ca1539382b5a4944f4886887c3cc83d09ff270c40bf732"
    },
    "kernelspec": {
      "display_name": "Python 3.8.10 64-bit ('venv': venv)",
      "language": "python",
      "name": "python3"
    },
    "language_info": {
      "codemirror_mode": {
        "name": "ipython",
        "version": 3
      },
      "file_extension": ".py",
      "mimetype": "text/x-python",
      "name": "python",
      "nbconvert_exporter": "python",
      "pygments_lexer": "ipython3",
      "version": "3.8.10"
    },
    "orig_nbformat": 4,
    "colab": {
      "name": "PythonTextPreprocessing.ipynb",
      "provenance": [],
      "collapsed_sections": [],
      "toc_visible": true,
      "include_colab_link": true
    }
  },
  "nbformat": 4,
  "nbformat_minor": 0
}